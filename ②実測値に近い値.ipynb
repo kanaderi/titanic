{
 "cells": [
  {
   "cell_type": "markdown",
   "metadata": {},
   "source": [
    "### <font color=\"#00bfff\">②実測値に近い値の算出</font>"
   ]
  },
  {
   "cell_type": "code",
   "execution_count": 1,
   "metadata": {},
   "outputs": [],
   "source": [
    "\"\"\"ライブラリのインポート\n",
    "\"\"\"\n",
    "import numpy as np\n",
    "import pandas as pd"
   ]
  },
  {
   "cell_type": "code",
   "execution_count": 2,
   "metadata": {},
   "outputs": [],
   "source": [
    "\"\"\"データの読み込み\n",
    "\"\"\"\n",
    "data=pd.read_csv('train.csv')"
   ]
  },
  {
   "cell_type": "markdown",
   "metadata": {},
   "source": [
    "#### <font color=\"#FFD700\">各カラムの意味</font>"
   ]
  },
  {
   "cell_type": "markdown",
   "metadata": {},
   "source": [
    "| <font color=\"8EF1FF\"> カラム名 </font>  | <font color=\"8EF1FF\"> 意味  </font> |\n",
    "|:-----------|:------------|\n",
    "| PassengerId  | 乗客のID |\n",
    "| Survived   | 生存フラグ（0=死亡、1=生存） |\n",
    "| Pclass   | チケットクラス |\n",
    "|Age   | 年齢 |\n",
    "| Name   | 乗客の名前 |\n",
    "| Sex   | 性別（male=男性、female＝女性） |\n",
    "| SibSp     | 兄弟/配偶者の数 |\n",
    "| parch    | 親/子供の数 |\n",
    "| ticket    | チケット番号 |\n",
    "| fare    | 料金 |\n",
    "| cabin     | 客室番号 |\n",
    "| Embarked     | 出港地（タイタニックへ乗った港） |\n",
    "\n",
    "\n",
    "<span style=\"font-size: 15px; color: #8EF1FF\">pclass=チケットクラス</span><br>\n",
    "<span style=\"font-size: 12px;\">\n",
    "1 = 上層クラス（お金持ち）<br>\n",
    "2 = 中級クラス（一般階級）<br>\n",
    "3 = 下層クラス（労働階級）</span>\n",
    "\n",
    "\n",
    "<span style=\"font-size: 15px; color: #8EF1FF\">Embarked = 出港地（タイタニックへ乗った港）</span><br>\n",
    "<span style=\"font-size: 12px;\">\n",
    "C = Cherbourg（フランス）<br>\n",
    "Q = Queenstown（アイルランド）<br>\n",
    "S = Southampton（イングランド）</span>\n"
   ]
  },
  {
   "cell_type": "markdown",
   "metadata": {},
   "source": [
    "### ●基本統計量"
   ]
  },
  {
   "cell_type": "code",
   "execution_count": 3,
   "metadata": {},
   "outputs": [
    {
     "data": {
      "text/html": [
       "<div>\n",
       "<style scoped>\n",
       "    .dataframe tbody tr th:only-of-type {\n",
       "        vertical-align: middle;\n",
       "    }\n",
       "\n",
       "    .dataframe tbody tr th {\n",
       "        vertical-align: top;\n",
       "    }\n",
       "\n",
       "    .dataframe thead th {\n",
       "        text-align: right;\n",
       "    }\n",
       "</style>\n",
       "<table border=\"1\" class=\"dataframe\">\n",
       "  <thead>\n",
       "    <tr style=\"text-align: right;\">\n",
       "      <th></th>\n",
       "      <th>PassengerId</th>\n",
       "      <th>Survived</th>\n",
       "      <th>Pclass</th>\n",
       "      <th>Age</th>\n",
       "      <th>SibSp</th>\n",
       "      <th>Parch</th>\n",
       "      <th>Fare</th>\n",
       "    </tr>\n",
       "  </thead>\n",
       "  <tbody>\n",
       "    <tr>\n",
       "      <th>count</th>\n",
       "      <td>891.000000</td>\n",
       "      <td>891.000000</td>\n",
       "      <td>891.000000</td>\n",
       "      <td>714.000000</td>\n",
       "      <td>891.000000</td>\n",
       "      <td>891.000000</td>\n",
       "      <td>891.000000</td>\n",
       "    </tr>\n",
       "    <tr>\n",
       "      <th>mean</th>\n",
       "      <td>446.000000</td>\n",
       "      <td>0.383838</td>\n",
       "      <td>2.308642</td>\n",
       "      <td>29.699118</td>\n",
       "      <td>0.523008</td>\n",
       "      <td>0.381594</td>\n",
       "      <td>32.204208</td>\n",
       "    </tr>\n",
       "    <tr>\n",
       "      <th>std</th>\n",
       "      <td>257.353842</td>\n",
       "      <td>0.486592</td>\n",
       "      <td>0.836071</td>\n",
       "      <td>14.526497</td>\n",
       "      <td>1.102743</td>\n",
       "      <td>0.806057</td>\n",
       "      <td>49.693429</td>\n",
       "    </tr>\n",
       "    <tr>\n",
       "      <th>min</th>\n",
       "      <td>1.000000</td>\n",
       "      <td>0.000000</td>\n",
       "      <td>1.000000</td>\n",
       "      <td>0.420000</td>\n",
       "      <td>0.000000</td>\n",
       "      <td>0.000000</td>\n",
       "      <td>0.000000</td>\n",
       "    </tr>\n",
       "    <tr>\n",
       "      <th>25%</th>\n",
       "      <td>223.500000</td>\n",
       "      <td>0.000000</td>\n",
       "      <td>2.000000</td>\n",
       "      <td>20.125000</td>\n",
       "      <td>0.000000</td>\n",
       "      <td>0.000000</td>\n",
       "      <td>7.910400</td>\n",
       "    </tr>\n",
       "    <tr>\n",
       "      <th>50%</th>\n",
       "      <td>446.000000</td>\n",
       "      <td>0.000000</td>\n",
       "      <td>3.000000</td>\n",
       "      <td>28.000000</td>\n",
       "      <td>0.000000</td>\n",
       "      <td>0.000000</td>\n",
       "      <td>14.454200</td>\n",
       "    </tr>\n",
       "    <tr>\n",
       "      <th>75%</th>\n",
       "      <td>668.500000</td>\n",
       "      <td>1.000000</td>\n",
       "      <td>3.000000</td>\n",
       "      <td>38.000000</td>\n",
       "      <td>1.000000</td>\n",
       "      <td>0.000000</td>\n",
       "      <td>31.000000</td>\n",
       "    </tr>\n",
       "    <tr>\n",
       "      <th>max</th>\n",
       "      <td>891.000000</td>\n",
       "      <td>1.000000</td>\n",
       "      <td>3.000000</td>\n",
       "      <td>80.000000</td>\n",
       "      <td>8.000000</td>\n",
       "      <td>6.000000</td>\n",
       "      <td>512.329200</td>\n",
       "    </tr>\n",
       "  </tbody>\n",
       "</table>\n",
       "</div>"
      ],
      "text/plain": [
       "       PassengerId    Survived      Pclass         Age       SibSp  \\\n",
       "count   891.000000  891.000000  891.000000  714.000000  891.000000   \n",
       "mean    446.000000    0.383838    2.308642   29.699118    0.523008   \n",
       "std     257.353842    0.486592    0.836071   14.526497    1.102743   \n",
       "min       1.000000    0.000000    1.000000    0.420000    0.000000   \n",
       "25%     223.500000    0.000000    2.000000   20.125000    0.000000   \n",
       "50%     446.000000    0.000000    3.000000   28.000000    0.000000   \n",
       "75%     668.500000    1.000000    3.000000   38.000000    1.000000   \n",
       "max     891.000000    1.000000    3.000000   80.000000    8.000000   \n",
       "\n",
       "            Parch        Fare  \n",
       "count  891.000000  891.000000  \n",
       "mean     0.381594   32.204208  \n",
       "std      0.806057   49.693429  \n",
       "min      0.000000    0.000000  \n",
       "25%      0.000000    7.910400  \n",
       "50%      0.000000   14.454200  \n",
       "75%      0.000000   31.000000  \n",
       "max      6.000000  512.329200  "
      ]
     },
     "execution_count": 3,
     "metadata": {},
     "output_type": "execute_result"
    }
   ],
   "source": [
    "\"\"\"dataの基本統計量\n",
    "\"\"\"\n",
    "data.describe()\n",
    "\n",
    "#Age(年齢)に177個・Cabin(客室番号)687個・Embarked(出港地)2個の欠損値あり\n",
    "#外れ値なし"
   ]
  },
  {
   "cell_type": "markdown",
   "metadata": {},
   "source": [
    "### ●欠損値の補完"
   ]
  },
  {
   "cell_type": "code",
   "execution_count": 4,
   "metadata": {},
   "outputs": [
    {
     "name": "stderr",
     "output_type": "stream",
     "text": [
      "c:\\users\\aika\\appdata\\local\\programs\\python\\python37-32\\lib\\site-packages\\ipykernel_launcher.py:4: SettingWithCopyWarning: \n",
      "A value is trying to be set on a copy of a slice from a DataFrame\n",
      "\n",
      "See the caveats in the documentation: http://pandas.pydata.org/pandas-docs/stable/user_guide/indexing.html#returning-a-view-versus-a-copy\n",
      "  after removing the cwd from sys.path.\n"
     ]
    }
   ],
   "source": [
    "\"\"\"Age(年齢)の欠損値\n",
    "\"\"\"\n",
    "#平均値で補完\n",
    "data[\"Age\"][data[\"Age\"].isnull()]=data[\"Age\"].mean()\n",
    "\n",
    "#今回は平均値で埋めるが、実務ではニューラルネットを使い予測値で埋めることが一般的"
   ]
  },
  {
   "cell_type": "markdown",
   "metadata": {},
   "source": [
    "<span style=\"font-size: 14.8px; color: #ffec82\">\"\"\"Embarked(出港地)の欠損値<br>\"\"\"</span>\n",
    "\n",
    "<span style=\"font-size: 14.8px; color: #817c75\"> _#61行目と829行目の2ヶ所に欠損値がある_ </span>\n",
    "\n",
    "<br>\n",
    "<span style=\"font-size: 14px; color: #8EF1FF\">61行目</span>\n",
    "\n",
    "| PassengerId | Survived | Pclass | Name | Sex | Age | SibSp | Parch | Ticket | Fare | Cabin | Embarked |\n",
    "|:---:|:---:|:---:|:---:|:---:|:---:|:---:|:---:|:---:|:---:|:---:|:---:|\n",
    "| 62 | 1 | 1 | Icard, Miss. Amelie | female | 38 | 0 | 0 | 113572 | 80 | B28 | NaN |\n",
    "\n",
    "\n",
    "<span style=\"font-size: 14px; color: #8EF1FF\">829行目</span>\n",
    "\n",
    "| PassengerId | Survived | Pclass | Name | Sex | Age | SibSp | Parch | Ticket | Fare | Cabin | Embarked |\n",
    "|:---:|:---:|:---:|:---:|:---:|:---:|:---:|:---:|:---:|:---:|:---:|:---:|\n",
    "| 830 | 1 | 1 |  Stone, Mrs. George Nelson (Martha Evelyn) | female | 62 | 0 | 0 | 113572 | 80 | B28 | NaN |\n",
    "\n",
    "<br>\n",
    "<span style=\"font-size: 15px; color: #FFD700\">\n",
    "この2つはCabin(客室番号),Ticket(チケット番号)が同じなため、おそらく同じEmbarked(出港地)だと推測できる\n",
    "</span>\n",
    "<br>\n",
    "<br>   \n",
    "<span style=\"font-size: 15px\">\n",
    "両方とも生存しているため、最も生存率の高いEmbarked(出港地)で補完する\n",
    "</span>\n",
    "\n",
    "| | C（フランス） | Q（アイルランド） | S（イングランド） |\n",
    "|:---:|:---:|:---:|:---:|\n",
    "| 人数 | 168 | 77 | 644|\n",
    "| 生存数 | 93 | 30 | 217 |"
   ]
  },
  {
   "cell_type": "code",
   "execution_count": 5,
   "metadata": {},
   "outputs": [],
   "source": [
    "\"\"\"最も生存率の高いEmbarked(出港地) = S で補完\n",
    "\"\"\"\n",
    "data=data.fillna({\"Embarked\":\"S\"})"
   ]
  },
  {
   "cell_type": "markdown",
   "metadata": {},
   "source": [
    "### ●ダミー変数化"
   ]
  },
  {
   "cell_type": "code",
   "execution_count": 6,
   "metadata": {
    "scrolled": true
   },
   "outputs": [
    {
     "name": "stderr",
     "output_type": "stream",
     "text": [
      "c:\\users\\aika\\appdata\\local\\programs\\python\\python37-32\\lib\\site-packages\\ipykernel_launcher.py:4: SettingWithCopyWarning: \n",
      "A value is trying to be set on a copy of a slice from a DataFrame\n",
      "\n",
      "See the caveats in the documentation: http://pandas.pydata.org/pandas-docs/stable/user_guide/indexing.html#returning-a-view-versus-a-copy\n",
      "  after removing the cwd from sys.path.\n",
      "c:\\users\\aika\\appdata\\local\\programs\\python\\python37-32\\lib\\site-packages\\ipykernel_launcher.py:5: SettingWithCopyWarning: \n",
      "A value is trying to be set on a copy of a slice from a DataFrame\n",
      "\n",
      "See the caveats in the documentation: http://pandas.pydata.org/pandas-docs/stable/user_guide/indexing.html#returning-a-view-versus-a-copy\n",
      "  \"\"\"\n"
     ]
    }
   ],
   "source": [
    "\"\"\"Sex(性別)の置換\n",
    "\"\"\"\n",
    "# male=0   female=1  に置換\n",
    "data[\"Sex\"][data[\"Sex\"]=='male']=0\n",
    "data[\"Sex\"][data[\"Sex\"]=='female']=1"
   ]
  },
  {
   "cell_type": "code",
   "execution_count": 7,
   "metadata": {},
   "outputs": [],
   "source": [
    "\"\"\"Embarked(出港地)の置換\n",
    "\"\"\"\n",
    "data[\"Embarked\"]=pd.get_dummies(data[\"Embarked\"])"
   ]
  },
  {
   "cell_type": "markdown",
   "metadata": {},
   "source": [
    "### ●データの分割"
   ]
  },
  {
   "cell_type": "code",
   "execution_count": 8,
   "metadata": {},
   "outputs": [],
   "source": [
    "#説明変数(Pclass,Sex,Age,SibSp,Parch,Fare,Embarked)\n",
    "X=data.iloc[0:,[2,4,5,6,7,9,11]]\n",
    "#目的変数(Survived)\n",
    "y=data.iloc[0:,[1]]\n",
    "\n",
    "\"\"\"訓練データとテストデータに分割(7:3)\n",
    "\"\"\"\n",
    "from sklearn.model_selection import train_test_split\n",
    "X_train,X_test,y_train,y_test=train_test_split(X,y,test_size=0.3,random_state=1234)"
   ]
  },
  {
   "cell_type": "markdown",
   "metadata": {},
   "source": [
    "### ●ニューラルネット"
   ]
  },
  {
   "cell_type": "code",
   "execution_count": 9,
   "metadata": {},
   "outputs": [],
   "source": [
    "\"\"\"基本モデルの作成：回帰\n",
    "\"\"\"\n",
    "from sklearn.neural_network import MLPRegressor\n",
    "clf=MLPRegressor(\n",
    "    random_state=1234\n",
    ")"
   ]
  },
  {
   "cell_type": "code",
   "execution_count": 10,
   "metadata": {},
   "outputs": [],
   "source": [
    "\"\"\"X_trainとX_testをnumpy配列に変化し、正規化\n",
    "\"\"\"\n",
    "from scipy.stats import zscore\n",
    "train_array=np.array(X_train)\n",
    "train_array=train_array.astype(int)\n",
    "X_train_array=zscore(train_array)\n",
    "\n",
    "test_array=np.array(X_test)\n",
    "test_array=test_array.astype(int)\n",
    "X_test_array=zscore(test_array)"
   ]
  },
  {
   "cell_type": "code",
   "execution_count": 11,
   "metadata": {},
   "outputs": [],
   "source": [
    "\"\"\"y_train,y_testを一次元に変換\n",
    "\"\"\"\n",
    "y_train=y_train.values.flatten()\n",
    "y_test=y_test.values.flatten()"
   ]
  },
  {
   "cell_type": "code",
   "execution_count": 12,
   "metadata": {},
   "outputs": [
    {
     "data": {
      "text/plain": [
       "MLPRegressor(activation='relu', alpha=0.0001, batch_size='auto', beta_1=0.9,\n",
       "             beta_2=0.999, early_stopping=False, epsilon=1e-08,\n",
       "             hidden_layer_sizes=(100,), learning_rate='constant',\n",
       "             learning_rate_init=0.001, max_fun=15000, max_iter=200,\n",
       "             momentum=0.9, n_iter_no_change=10, nesterovs_momentum=True,\n",
       "             power_t=0.5, random_state=1234, shuffle=True, solver='adam',\n",
       "             tol=0.0001, validation_fraction=0.1, verbose=False,\n",
       "             warm_start=False)"
      ]
     },
     "execution_count": 12,
     "metadata": {},
     "output_type": "execute_result"
    }
   ],
   "source": [
    "\"\"\"モデルの最適化\n",
    "\"\"\"\n",
    "#説明変数：X_train_array　目的変数,実測値：y_train\n",
    "clf.fit(X_train_array,y_train)"
   ]
  },
  {
   "cell_type": "code",
   "execution_count": 13,
   "metadata": {},
   "outputs": [],
   "source": [
    "\"\"\"予測値の算出(訓練データ)\n",
    "\"\"\"\n",
    "\n",
    "#予測値：y_train_predict　　説明変数：X_train_array\n",
    "y_train_predict=clf.predict(X_train_array)"
   ]
  },
  {
   "cell_type": "markdown",
   "metadata": {},
   "source": [
    "#### <font color=\"#FFD700\">さらに精度を上げる為に実測値から予測値を引いた値を予測する</font>"
   ]
  },
  {
   "cell_type": "code",
   "execution_count": 14,
   "metadata": {},
   "outputs": [],
   "source": [
    "\"\"\"基本モデルの作成：回帰\n",
    "\"\"\"\n",
    "clf_=MLPRegressor(\n",
    "    random_state=1234\n",
    ")"
   ]
  },
  {
   "cell_type": "code",
   "execution_count": 15,
   "metadata": {},
   "outputs": [],
   "source": [
    "\"\"\"実測値-予測値の差分 = 実測値 - 予測値\n",
    "\"\"\"\n",
    "#差分：train_difference　　実測値：y_train　　予測値：y_train_predict\n",
    "train_difference=y_train-y_train_predict"
   ]
  },
  {
   "cell_type": "code",
   "execution_count": 16,
   "metadata": {},
   "outputs": [
    {
     "data": {
      "text/plain": [
       "MLPRegressor(activation='relu', alpha=0.0001, batch_size='auto', beta_1=0.9,\n",
       "             beta_2=0.999, early_stopping=False, epsilon=1e-08,\n",
       "             hidden_layer_sizes=(100,), learning_rate='constant',\n",
       "             learning_rate_init=0.001, max_fun=15000, max_iter=200,\n",
       "             momentum=0.9, n_iter_no_change=10, nesterovs_momentum=True,\n",
       "             power_t=0.5, random_state=1234, shuffle=True, solver='adam',\n",
       "             tol=0.0001, validation_fraction=0.1, verbose=False,\n",
       "             warm_start=False)"
      ]
     },
     "execution_count": 16,
     "metadata": {},
     "output_type": "execute_result"
    }
   ],
   "source": [
    "\"\"\"差分を目的変数として学習させる(説明変数は同じ)\n",
    "\"\"\"\n",
    "\n",
    "#説明変数：X_train_array　　目的変数,差分：train_difference\n",
    "clf_.fit(X_train_array,train_difference)"
   ]
  },
  {
   "cell_type": "code",
   "execution_count": 17,
   "metadata": {},
   "outputs": [],
   "source": [
    "\"\"\"差分の予測値の算出\n",
    "\"\"\"\n",
    "\n",
    "#差分の予測値：train_difference_predict　　説明変数：X_train_array\n",
    "train_difference_predict=clf_.predict(X_train_array)"
   ]
  },
  {
   "cell_type": "code",
   "execution_count": 18,
   "metadata": {},
   "outputs": [],
   "source": [
    "\"\"\"実測値に近い値=予測値+差分の予測値\n",
    "\"\"\"\n",
    "\n",
    "#実測値に近い値：train_difference_predict_　　予測値：y_train_predict　　差分の予測値：train_difference_predict\n",
    "train_difference_predict_=y_train_predict+train_difference_predict"
   ]
  },
  {
   "cell_type": "code",
   "execution_count": 19,
   "metadata": {},
   "outputs": [],
   "source": [
    "\"\"\"値の置換\n",
    "\"\"\"\n",
    "#train_difference_predict_が0.5以上なら1　　train_difference_predict_が0.5以下なら0に置き換え\n",
    "train_difference_predict_=[1 if o>0.5 else o for o in train_difference_predict_]\n",
    "train_difference_predict_=[0 if i<0.5 else i for i in train_difference_predict_]"
   ]
  },
  {
   "cell_type": "code",
   "execution_count": 20,
   "metadata": {},
   "outputs": [],
   "source": [
    "\"\"\"ライブラリのインストール\n",
    "\"\"\"\n",
    "import matplotlib.pyplot as plt\n",
    "import seaborn as sns"
   ]
  },
  {
   "cell_type": "code",
   "execution_count": 21,
   "metadata": {},
   "outputs": [
    {
     "data": {
      "text/plain": [
       "<matplotlib.axes._subplots.AxesSubplot at 0x12b8bcd0>"
      ]
     },
     "execution_count": 21,
     "metadata": {},
     "output_type": "execute_result"
    },
    {
     "data": {
      "image/png": "[encoded data removed]",
      "text/plain": [
       "<Figure size 432x288 with 2 Axes>"
      ]
     },
     "metadata": {
      "needs_background": "light"
     },
     "output_type": "display_data"
    }
   ],
   "source": [
    "\"\"\"混同行列の表示\n",
    "\"\"\"\n",
    "from sklearn.metrics import confusion_matrix\n",
    "\n",
    "#混同行列(Confusion Matrix)\n",
    "cm=confusion_matrix(y_train, train_difference_predict_)\n",
    "\n",
    "#fmt=\"d\":整数で表示\n",
    "sns.heatmap(cm, annot=True, cmap='Blues',fmt=\"d\")"
   ]
  },
  {
   "cell_type": "code",
   "execution_count": 22,
   "metadata": {},
   "outputs": [
    {
     "name": "stdout",
     "output_type": "stream",
     "text": [
      "正解率: 0.849\n"
     ]
    }
   ],
   "source": [
    "\"\"\"精度の評価\n",
    "\"\"\"\n",
    "from sklearn.metrics import accuracy_score\n",
    "print(\"正解率:\",round(accuracy_score(y_train, train_difference_predict_),3))"
   ]
  },
  {
   "cell_type": "code",
   "execution_count": 23,
   "metadata": {},
   "outputs": [],
   "source": [
    "\"\"\"予測値の算出(テストデータ)\n",
    "\"\"\"\n",
    "\n",
    "#予測値:y_test_predict　　説明変数:X_test_array\n",
    "y_test_predict=clf.predict(X_test_array)"
   ]
  },
  {
   "cell_type": "markdown",
   "metadata": {},
   "source": [
    "#### <font color=\"#FFD700\">さらに精度を上げる為に実測値から予測値を引いた値を予測する</font>"
   ]
  },
  {
   "cell_type": "code",
   "execution_count": 24,
   "metadata": {},
   "outputs": [],
   "source": [
    "\"\"\"実測値-予測値の差分 = 実測値 - 予測値\n",
    "\"\"\"\n",
    "#差分:test_dIfference　　実測値:y_test　　予測値:y_tets_predict\n",
    "test_difference=y_test-y_test_predict"
   ]
  },
  {
   "cell_type": "code",
   "execution_count": 25,
   "metadata": {},
   "outputs": [],
   "source": [
    "\"\"\"差分の予測値の算出\n",
    "\"\"\"\n",
    "\n",
    "#差分の予測値:test_difference_predict　　説明変数:X_test_array\n",
    "test_difference_predict=clf_.predict(X_test_array)"
   ]
  },
  {
   "cell_type": "code",
   "execution_count": 26,
   "metadata": {},
   "outputs": [],
   "source": [
    "\"\"\"実測値に近い値=予測値+差分の予測値\n",
    "\"\"\"\n",
    "\n",
    "#実測値に近い値:tets_difference_predict_    予測値:y_test_predict    差分の予測値:test_difference_predict\n",
    "test_difference_predict_=y_test_predict+test_difference_predict"
   ]
  },
  {
   "cell_type": "code",
   "execution_count": 27,
   "metadata": {},
   "outputs": [],
   "source": [
    "\"\"\"値の置換\n",
    "\"\"\"\n",
    "#test_difference_predict_が0.5以上なら1　　test_difference_predict_が0.5以下なら0に置き換え\n",
    "test_difference_predict_=[1 if j>0.5 else j for j in test_difference_predict_]\n",
    "test_difference_predict_=[0 if k<0.5 else k for k in test_difference_predict_]"
   ]
  },
  {
   "cell_type": "code",
   "execution_count": 28,
   "metadata": {},
   "outputs": [
    {
     "data": {
      "text/plain": [
       "<matplotlib.axes._subplots.AxesSubplot at 0x13f8de30>"
      ]
     },
     "execution_count": 28,
     "metadata": {},
     "output_type": "execute_result"
    },
    {
     "data": {
      "image/png": "[encoded data removed]",
      "text/plain": [
       "<Figure size 432x288 with 2 Axes>"
      ]
     },
     "metadata": {
      "needs_background": "light"
     },
     "output_type": "display_data"
    }
   ],
   "source": [
    "\"\"\"混同行列の表示\n",
    "\"\"\"\n",
    "from sklearn.metrics import confusion_matrix\n",
    "\n",
    "#混同行列(Confusion Matrix)\n",
    "cm=confusion_matrix(y_test, test_difference_predict_)\n",
    "\n",
    "#fmt=\"d\":整数で表示\n",
    "sns.heatmap(cm, annot=True, cmap='Blues',fmt=\"d\")"
   ]
  },
  {
   "cell_type": "code",
   "execution_count": 29,
   "metadata": {},
   "outputs": [
    {
     "name": "stdout",
     "output_type": "stream",
     "text": [
      "正解率: 0.81\n"
     ]
    }
   ],
   "source": [
    "\"\"\"精度の評価\n",
    "\"\"\"\n",
    "from sklearn.metrics import accuracy_score\n",
    "print(\"正解率:\",round(accuracy_score(y_test, test_difference_predict_),3))"
   ]
  }
 ],
 "metadata": {
  "kernelspec": {
   "display_name": "Python 3",
   "language": "python",
   "name": "python3"
  },
  "language_info": {
   "codemirror_mode": {
    "name": "ipython",
    "version": 3
   },
   "file_extension": ".py",
   "mimetype": "text/x-python",
   "name": "python",
   "nbconvert_exporter": "python",
   "pygments_lexer": "ipython3",
   "version": "3.7.4"
  }
 },
 "nbformat": 4,
 "nbformat_minor": 2
}
