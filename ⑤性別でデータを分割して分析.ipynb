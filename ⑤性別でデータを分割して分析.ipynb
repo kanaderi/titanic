{
 "cells": [
  {
   "cell_type": "markdown",
   "metadata": {},
   "source": [
    "### <font color=\"#00bfff\">⑤Sex(性別)データを分割して、分析</font>"
   ]
  },
  {
   "cell_type": "code",
   "execution_count": 1,
   "metadata": {},
   "outputs": [],
   "source": [
    "\"\"\"ライブラリのインポート\n",
    "\"\"\"\n",
    "import numpy as np\n",
    "import pandas as pd"
   ]
  },
  {
   "cell_type": "code",
   "execution_count": 2,
   "metadata": {},
   "outputs": [],
   "source": [
    "\"\"\"データの読み込み\n",
    "\"\"\"\n",
    "data=pd.read_csv('train.csv')"
   ]
  },
  {
   "cell_type": "markdown",
   "metadata": {},
   "source": [
    "#### <font color=\"#FFD700\">各カラムの意味</font>"
   ]
  },
  {
   "cell_type": "markdown",
   "metadata": {},
   "source": [
    "| <font color=\"8EF1FF\"> カラム名 </font>  | <font color=\"8EF1FF\"> 意味  </font> |\n",
    "|:-----------|:------------|\n",
    "| PassengerId  | 乗客のID |\n",
    "| Survived   | 生存フラグ（0=死亡、1=生存） |\n",
    "| Pclass   | チケットクラス |\n",
    "| Name   | 乗客の名前 |\n",
    "| Sex   | 性別（male=男性、female＝女性） |\n",
    "| SibSp     | 兄弟/配偶者の数 |\n",
    "| parch    | 親/子供の数 |\n",
    "| ticket    | チケット番号 |\n",
    "| fare    | 料金 |\n",
    "| cabin     | 客室番号 |\n",
    "| Embarked     | 出港地（タイタニックへ乗った港） |\n",
    "\n",
    "\n",
    "<span style=\"font-size: 15px; color: #8EF1FF;\">pclass=チケットクラス</span><br>\n",
    "<span style=\"font-size: 12px;\">\n",
    "1 = 上層クラス（お金持ち）<br>\n",
    "2 = 中級クラス（一般階級）<br>\n",
    "3 = 下層クラス（労働階級）</span>\n",
    "\n",
    "\n",
    "<span style=\"font-size: 15px; color: #8EF1FF;\">Embarked = 出港地（タイタニックへ乗った港）</span><br>\n",
    "<span style=\"font-size: 12px;\">\n",
    "C = Cherbourg（フランス）<br>\n",
    "Q = Queenstown（アイルランド）<br>\n",
    "S = Southampton（イングランド）</span>\n"
   ]
  },
  {
   "cell_type": "markdown",
   "metadata": {},
   "source": [
    "### ●基本統計量"
   ]
  },
  {
   "cell_type": "code",
   "execution_count": 3,
   "metadata": {},
   "outputs": [
    {
     "data": {
      "text/html": [
       "<div>\n",
       "<style scoped>\n",
       "    .dataframe tbody tr th:only-of-type {\n",
       "        vertical-align: middle;\n",
       "    }\n",
       "\n",
       "    .dataframe tbody tr th {\n",
       "        vertical-align: top;\n",
       "    }\n",
       "\n",
       "    .dataframe thead th {\n",
       "        text-align: right;\n",
       "    }\n",
       "</style>\n",
       "<table border=\"1\" class=\"dataframe\">\n",
       "  <thead>\n",
       "    <tr style=\"text-align: right;\">\n",
       "      <th></th>\n",
       "      <th>PassengerId</th>\n",
       "      <th>Survived</th>\n",
       "      <th>Pclass</th>\n",
       "      <th>Age</th>\n",
       "      <th>SibSp</th>\n",
       "      <th>Parch</th>\n",
       "      <th>Fare</th>\n",
       "    </tr>\n",
       "  </thead>\n",
       "  <tbody>\n",
       "    <tr>\n",
       "      <th>count</th>\n",
       "      <td>891.000000</td>\n",
       "      <td>891.000000</td>\n",
       "      <td>891.000000</td>\n",
       "      <td>714.000000</td>\n",
       "      <td>891.000000</td>\n",
       "      <td>891.000000</td>\n",
       "      <td>891.000000</td>\n",
       "    </tr>\n",
       "    <tr>\n",
       "      <th>mean</th>\n",
       "      <td>446.000000</td>\n",
       "      <td>0.383838</td>\n",
       "      <td>2.308642</td>\n",
       "      <td>29.699118</td>\n",
       "      <td>0.523008</td>\n",
       "      <td>0.381594</td>\n",
       "      <td>32.204208</td>\n",
       "    </tr>\n",
       "    <tr>\n",
       "      <th>std</th>\n",
       "      <td>257.353842</td>\n",
       "      <td>0.486592</td>\n",
       "      <td>0.836071</td>\n",
       "      <td>14.526497</td>\n",
       "      <td>1.102743</td>\n",
       "      <td>0.806057</td>\n",
       "      <td>49.693429</td>\n",
       "    </tr>\n",
       "    <tr>\n",
       "      <th>min</th>\n",
       "      <td>1.000000</td>\n",
       "      <td>0.000000</td>\n",
       "      <td>1.000000</td>\n",
       "      <td>0.420000</td>\n",
       "      <td>0.000000</td>\n",
       "      <td>0.000000</td>\n",
       "      <td>0.000000</td>\n",
       "    </tr>\n",
       "    <tr>\n",
       "      <th>25%</th>\n",
       "      <td>223.500000</td>\n",
       "      <td>0.000000</td>\n",
       "      <td>2.000000</td>\n",
       "      <td>20.125000</td>\n",
       "      <td>0.000000</td>\n",
       "      <td>0.000000</td>\n",
       "      <td>7.910400</td>\n",
       "    </tr>\n",
       "    <tr>\n",
       "      <th>50%</th>\n",
       "      <td>446.000000</td>\n",
       "      <td>0.000000</td>\n",
       "      <td>3.000000</td>\n",
       "      <td>28.000000</td>\n",
       "      <td>0.000000</td>\n",
       "      <td>0.000000</td>\n",
       "      <td>14.454200</td>\n",
       "    </tr>\n",
       "    <tr>\n",
       "      <th>75%</th>\n",
       "      <td>668.500000</td>\n",
       "      <td>1.000000</td>\n",
       "      <td>3.000000</td>\n",
       "      <td>38.000000</td>\n",
       "      <td>1.000000</td>\n",
       "      <td>0.000000</td>\n",
       "      <td>31.000000</td>\n",
       "    </tr>\n",
       "    <tr>\n",
       "      <th>max</th>\n",
       "      <td>891.000000</td>\n",
       "      <td>1.000000</td>\n",
       "      <td>3.000000</td>\n",
       "      <td>80.000000</td>\n",
       "      <td>8.000000</td>\n",
       "      <td>6.000000</td>\n",
       "      <td>512.329200</td>\n",
       "    </tr>\n",
       "  </tbody>\n",
       "</table>\n",
       "</div>"
      ],
      "text/plain": [
       "       PassengerId    Survived      Pclass         Age       SibSp  \\\n",
       "count   891.000000  891.000000  891.000000  714.000000  891.000000   \n",
       "mean    446.000000    0.383838    2.308642   29.699118    0.523008   \n",
       "std     257.353842    0.486592    0.836071   14.526497    1.102743   \n",
       "min       1.000000    0.000000    1.000000    0.420000    0.000000   \n",
       "25%     223.500000    0.000000    2.000000   20.125000    0.000000   \n",
       "50%     446.000000    0.000000    3.000000   28.000000    0.000000   \n",
       "75%     668.500000    1.000000    3.000000   38.000000    1.000000   \n",
       "max     891.000000    1.000000    3.000000   80.000000    8.000000   \n",
       "\n",
       "            Parch        Fare  \n",
       "count  891.000000  891.000000  \n",
       "mean     0.381594   32.204208  \n",
       "std      0.806057   49.693429  \n",
       "min      0.000000    0.000000  \n",
       "25%      0.000000    7.910400  \n",
       "50%      0.000000   14.454200  \n",
       "75%      0.000000   31.000000  \n",
       "max      6.000000  512.329200  "
      ]
     },
     "execution_count": 3,
     "metadata": {},
     "output_type": "execute_result"
    }
   ],
   "source": [
    "\"\"\"dataの基本統計量\n",
    "\"\"\"\n",
    "data.describe()\n",
    "\n",
    "#Age(年齢)・Cabin(客室番号)・Embarked(出港地)に欠損値あり\n",
    "#外れ値なし"
   ]
  },
  {
   "cell_type": "markdown",
   "metadata": {},
   "source": [
    "### ●Sex(性別)のダミー変数化\n",
    "<p style=\"text-indent:2em\">male=0　female=1　に置換</p>"
   ]
  },
  {
   "cell_type": "code",
   "execution_count": 4,
   "metadata": {
    "scrolled": true
   },
   "outputs": [
    {
     "name": "stderr",
     "output_type": "stream",
     "text": [
      "c:\\users\\aika\\appdata\\local\\programs\\python\\python37-32\\lib\\site-packages\\ipykernel_launcher.py:2: SettingWithCopyWarning: \n",
      "A value is trying to be set on a copy of a slice from a DataFrame\n",
      "\n",
      "See the caveats in the documentation: http://pandas.pydata.org/pandas-docs/stable/user_guide/indexing.html#returning-a-view-versus-a-copy\n",
      "  \n",
      "c:\\users\\aika\\appdata\\local\\programs\\python\\python37-32\\lib\\site-packages\\ipykernel_launcher.py:3: SettingWithCopyWarning: \n",
      "A value is trying to be set on a copy of a slice from a DataFrame\n",
      "\n",
      "See the caveats in the documentation: http://pandas.pydata.org/pandas-docs/stable/user_guide/indexing.html#returning-a-view-versus-a-copy\n",
      "  This is separate from the ipykernel package so we can avoid doing imports until\n"
     ]
    }
   ],
   "source": [
    "\"\"\"ダミー変数化\n",
    "\"\"\"\n",
    "data[\"Sex\"][data[\"Sex\"]=='male']=0\n",
    "data[\"Sex\"][data[\"Sex\"]=='female']=1"
   ]
  },
  {
   "cell_type": "markdown",
   "metadata": {},
   "source": [
    "### ●Age(年齢)の欠損値の補完"
   ]
  },
  {
   "cell_type": "code",
   "execution_count": 5,
   "metadata": {},
   "outputs": [
    {
     "name": "stderr",
     "output_type": "stream",
     "text": [
      "c:\\users\\aika\\appdata\\local\\programs\\python\\python37-32\\lib\\site-packages\\ipykernel_launcher.py:2: SettingWithCopyWarning: \n",
      "A value is trying to be set on a copy of a slice from a DataFrame\n",
      "\n",
      "See the caveats in the documentation: http://pandas.pydata.org/pandas-docs/stable/user_guide/indexing.html#returning-a-view-versus-a-copy\n",
      "  \n"
     ]
    }
   ],
   "source": [
    "\"\"\"欠損値を平均値で補完\n",
    "\"\"\"\n",
    "data[\"Age\"][data[\"Age\"].isnull()]=data[\"Age\"].mean()\n",
    "\n",
    "#今回は平均値で埋めるが、実務ではニューラルネットを使い予測値で埋めることが一般的"
   ]
  },
  {
   "cell_type": "markdown",
   "metadata": {},
   "source": [
    "### ●性別ごとにデータを分割"
   ]
  },
  {
   "cell_type": "code",
   "execution_count": 6,
   "metadata": {},
   "outputs": [],
   "source": [
    "\"\"\"男女でデータを分割\n",
    "\"\"\"\n",
    "data_f=data[data[\"Sex\"]==1]\n",
    "data_m=data[data[\"Sex\"]==0]"
   ]
  },
  {
   "cell_type": "markdown",
   "metadata": {},
   "source": [
    "### ●データの分割"
   ]
  },
  {
   "cell_type": "markdown",
   "metadata": {},
   "source": [
    "<p style=\"text-indent:1em\">male(男)</p>"
   ]
  },
  {
   "cell_type": "code",
   "execution_count": 7,
   "metadata": {},
   "outputs": [],
   "source": [
    "#説明変数(Pclass,Sex,Age,SibSp,Parch,Fare)\n",
    "X_m=data_m.iloc[0:,[2,5,6,7,9]]\n",
    "#目的変数(Survived)\n",
    "y_m=data_m.iloc[0:,[1]]\n",
    "\n",
    "\"\"\"訓練データとテストデータに分割(7:3)\n",
    "\"\"\"\n",
    "from sklearn.model_selection import train_test_split\n",
    "X_train_m,X_test_m,y_train_m,y_test_m=train_test_split(X_m,y_m,test_size=0.3,random_state=1234)"
   ]
  },
  {
   "cell_type": "markdown",
   "metadata": {},
   "source": [
    "<p style=\"text-indent:1em\">female(女)</p>"
   ]
  },
  {
   "cell_type": "code",
   "execution_count": 8,
   "metadata": {},
   "outputs": [],
   "source": [
    "#説明変数(Pclass,Sex,Age,SibSp,Parch,Fare)\n",
    "X_f=data_f.iloc[0:,[2,5,6,7,9]]\n",
    "#目的変数(Survived)\n",
    "y_f=data_f.iloc[0:,[1]]\n",
    "\n",
    "\"\"\"訓練データとテストデータに分割(7:3)\n",
    "\"\"\"\n",
    "from sklearn.model_selection import train_test_split\n",
    "X_train_f,X_test_f,y_train_f,y_test_f=train_test_split(X_f,y_f,test_size=0.3,random_state=1234)"
   ]
  },
  {
   "cell_type": "markdown",
   "metadata": {},
   "source": [
    "### <font color=\"#da70d6\">male(男)の分析</font>"
   ]
  },
  {
   "cell_type": "markdown",
   "metadata": {},
   "source": [
    "### ●グリッドサーチ"
   ]
  },
  {
   "cell_type": "markdown",
   "metadata": {},
   "source": [
    "<font color=\"#FFB6C1\">①最適な学習率の算出</font><br>\n",
    "<p style=\"text-indent:1em\">(0.005),(0.006),(0.007),(0.008),(0.009),(0.01)</p><br>\n",
    "<p　style=\"text-indent:1em\"><font color=\"#FFB6C1\">結果</font></p>\n",
    "<p　style=\"text-indent:2em\">0.008</p>"
   ]
  },
  {
   "cell_type": "markdown",
   "metadata": {},
   "source": [
    "<font color=\"#FFB6C1\">②最適な学習回数の算出</font><br>\n",
    "<p　style=\"text-indent:1em\">学習率を0.008に固定</p>\n",
    "<p style=\"text-indent:1em\">(100),(200),(300),(400),(500)</p><br>\n",
    "<p　style=\"text-indent:1em\"><font color=\"#FFB6C1\">結果</font></p>\n",
    "<p　style=\"text-indent:2em\">200</p>"
   ]
  },
  {
   "cell_type": "markdown",
   "metadata": {},
   "source": [
    "<font color=\"#FFB6C1\">③最適な中間層数の算出</font><br>\n",
    "<p　style=\"text-indent:1em\">学習率を0.008、学習回数を200に固定</p>\n",
    "<p style=\"text-indent:1em\">(64),(64,64),(64,64,64),(64,64,64,64),(64,64,64,64,64)</p><br>\n",
    "<p　style=\"text-indent:1em\"><font color=\"#FFB6C1\">結果</font></p>\n",
    "<p　style=\"text-indent:2em\">(64,64,64,64,64)→4個</p>"
   ]
  },
  {
   "cell_type": "markdown",
   "metadata": {},
   "source": [
    "<font color=\"#FFB6C1\">④単調増加</font><br>\n",
    "<p　style=\"text-indent:1em\">学習率を0.008、学習回数を200に固定、中間層数は4個</p>\n",
    "<p style=\"text-indent:1em\">(32,64,128,256),(64,128,256,512)</p><br>\n",
    "<p　style=\"text-indent:1em\"><font color=\"#FFB6C1\">結果</font></p>\n",
    "<p　style=\"text-indent:2em\">(64,128,256,512)</p>"
   ]
  },
  {
   "cell_type": "markdown",
   "metadata": {},
   "source": [
    "<font color=\"#FFB6C1\">⑤単調減少</font><br>\n",
    "<p　style=\"text-indent:1em\">学習率を0.008、学習回数を200に固定、中間層数は4個</p>\n",
    "<p style=\"text-indent:1em\">(64,128,256,512),(512,256,128,64),(256,128,64,32)</p><br>\n",
    "<p　style=\"text-indent:1em\"><font color=\"#FFB6C1\">結果</font></p>\n",
    "<p　style=\"text-indent:2em\">(64, 128, 256, 512)</p>"
   ]
  },
  {
   "cell_type": "markdown",
   "metadata": {},
   "source": [
    "<font color=\"#FFB6C1\">⑥単調</font><br>\n",
    "<p　style=\"text-indent:1em\">学習率を0.008、学習回数を200に固定、中間層数は4個</p>\n",
    "<p style=\"text-indent:1em\">(64,128,256,512),(32,32,32,32),(64,64,64,64),(128,128,128,128),(256,256,256,256),(512,512,512,512)</p><br>\n",
    "<p　style=\"text-indent:1em\"><font color=\"#FFB6C1\">結果</font></p>\n",
    "<p　style=\"text-indent:2em\">(64,128,256,512)</p>"
   ]
  },
  {
   "cell_type": "markdown",
   "metadata": {},
   "source": [
    "\n",
    "<font color=\"#FFB6C1\">⑦山なり</font><br>\n",
    "<p　style=\"text-indent:1em\">学習率を0.008、学習回数を200に固定、中間層数は4個</p>\n",
    "<p style=\"text-indent:1em\">(64,128,256,512),(32,64,64,32),(32,128,128,32),(32,256,256,32),(32,512,512,32)</p><br>\n",
    "<p　style=\"text-indent:1em\"><font color=\"#FFB6C1\">結果</font></p>\n",
    "<p　style=\"text-indent:2em\">(64,128,256,512)</p>\n",
    "\n",
    "ーーーーーーーーーーーーーーーーーーーーーーーーーーーーーーーーーーーーーーーーーーーーーーーーー\n",
    "\n",
    "\n",
    "<font color=\"#FFB6C1\">⑦山なり</font><br>\n",
    "<p style=\"text-indent:1em\">(64,128,256,512),(64,32,32,64),(64,128,128,64),(64,256,256,64),(64,512,512,64)</p><br>\n",
    "<p　style=\"text-indent:1em\"><font color=\"#FFB6C1\">結果</font></p>\n",
    "<p　style=\"text-indent:2em\">(64,128,256,512)</p>\n",
    "\n",
    "ーーーーーーーーーーーーーーーーーーーーーーーーーーーーーーーーーーーーーーーーーーーーーーーーー\n",
    "\n",
    "<font color=\"#FFB6C1\">⑦山なり</font><br>\n",
    "<p style=\"text-indent:1em\">(64,128,256,512),(128,32,32,128),(128,64,64,128),(128,256,256,128),(128,512,512,128)</p><br>\n",
    "<p　style=\"text-indent:1em\"><font color=\"#FFB6C1\">結果</font></p>\n",
    "<p　style=\"text-indent:2em\">(64,128,256,512)</p>\n",
    "\n",
    "ーーーーーーーーーーーーーーーーーーーーーーーーーーーーーーーーーーーーーーーーーーーーーーーーー\n",
    "\n",
    "<font color=\"#FFB6C1\">⑦山なり</font><br>\n",
    "<p style=\"text-indent:1em\">(64,128,256,512),(256,32,32,256),(256,64,64,256),(256,128,128,256),(256,512,512,256)</p><br>\n",
    "<p　style=\"text-indent:1em\"><font color=\"#FFB6C1\">結果</font></p>\n",
    "<p　style=\"text-indent:2em\">(64,128,256,512)</p>\n",
    "\n",
    "ーーーーーーーーーーーーーーーーーーーーーーーーーーーーーーーーーーーーーーーーーーーーーーーーー\n",
    "\n",
    "<font color=\"#FFB6C1\">⑦山なり</font><br>\n",
    "<p style=\"text-indent:1em\">(64,128,256,512),(512,32,32,512),(512,64,64,512),(512,128,128,512),(512,256,256,512)</p><br>\n",
    "<p　style=\"text-indent:1em\"><font color=\"#FFB6C1\">結果</font></p>\n",
    "<p　style=\"text-indent:2em\">(64,128,256,512)</p>\n"
   ]
  },
  {
   "cell_type": "markdown",
   "metadata": {},
   "source": [
    "<font color=\"#FFB6C1\">⑧ギザギザ</font><br>\n",
    "<p　style=\"text-indent:1em\">学習率を0.008、学習回数を200に固定、中間層数は4個</p>\n",
    "<p style=\"text-indent:1em\">(64,128,256,512),(32,64,32,64),(32,128,32,128),(32,256,32,256),(32,512,32,512)</p><br>\n",
    "<p　style=\"text-indent:1em\"><font color=\"#FFB6C1\">結果</font></p>\n",
    "<p　style=\"text-indent:2em\">(64,128,256,512)</p>\n",
    "\n",
    "ーーーーーーーーーーーーーーーーーーーーーーーーーーーーーーーーーーーーーーーーーーーーーーーーー\n",
    "\n",
    "\n",
    "<font color=\"#FFB6C1\">⑧ギザギザ</font><br>\n",
    "<p style=\"text-indent:1em\">(64,128,256,512),(64,32,64,32),(64,128,64,128),(64,256,64,256),(64,512,64,512)</p><br>\n",
    "<p　style=\"text-indent:1em\"><font color=\"#FFB6C1\">結果</font></p>\n",
    "<p　style=\"text-indent:2em\">(64,128,256,512)</p>\n",
    "\n",
    "ーーーーーーーーーーーーーーーーーーーーーーーーーーーーーーーーーーーーーーーーーーーーーーーーー\n",
    "\n",
    "<font color=\"#FFB6C1\">⑧ギザギザ</font><br>\n",
    "<p style=\"text-indent:1em\">(64,128,256,512),(128,32,128,32),(128,64,128,64),(128,256,128,256),(128,512,128,512)</p><br>\n",
    "<p　style=\"text-indent:1em\"><font color=\"#FFB6C1\">結果</font></p>\n",
    "<p　style=\"text-indent:2em\">(64,128,256,512)</p>\n",
    "\n",
    "ーーーーーーーーーーーーーーーーーーーーーーーーーーーーーーーーーーーーーーーーーーーーーーーーー\n",
    "\n",
    "<font color=\"#FFB6C1\">⑧ギザギザ</font><br>\n",
    "<p style=\"text-indent:1em\">(64,128,256,512),(256,32,256,32),(256,64,256,64),(256,128,256,128),(256,512,256,512)</p><br>\n",
    "<p　style=\"text-indent:1em\"><font color=\"#FFB6C1\">結果</font></p>\n",
    "<p　style=\"text-indent:2em\">(64,128,256,512)</p>\n",
    "\n",
    "ーーーーーーーーーーーーーーーーーーーーーーーーーーーーーーーーーーーーーーーーーーーーーーーーー\n",
    "\n",
    "<font color=\"#FFB6C1\">⑧ギザギザ</font><br>\n",
    "<p style=\"text-indent:1em\">(64,128,256,512),(512,32,512,32),(512,64,512,64),(512,128,512,128),(512,256,512,256)</p><br>\n",
    "<p　style=\"text-indent:1em\"><font color=\"#FFB6C1\">結果</font></p>\n",
    "<p　style=\"text-indent:2em\">(64,128,256,512)</p>"
   ]
  },
  {
   "cell_type": "markdown",
   "metadata": {},
   "source": [
    "<font color=\"#FFB6C1\">⑨その他</font><br>\n",
    "<p　style=\"text-indent:1em\">学習率を0.008、学習回数を200に固定、中間層数は4個</p>\n",
    "<p style=\"text-indent:1em\">(64,128,256,512),(32,32,64,64),(32,32,128,128),(32,32,256,256),(32,32,512,512)</p><br>\n",
    "<p　style=\"text-indent:1em\"><font color=\"#FFB6C1\">結果</font></p>\n",
    "<p　style=\"text-indent:2em\">(64,128,256,512)</p>\n",
    "\n",
    "ーーーーーーーーーーーーーーーーーーーーーーーーーーーーーーーーーーーーーーーーーーーーーーーーー\n",
    "\n",
    "\n",
    "<font color=\"#FFB6C1\">⑨その他</font><br>\n",
    "<p style=\"text-indent:1em\">(64,128,256,512),(64,64,32,32),(64,64,128,128),(64,64,256,256),(64,64,512,512)</p><br>\n",
    "<p　style=\"text-indent:1em\"><font color=\"#FFB6C1\">結果</font></p>\n",
    "<p　style=\"text-indent:2em\">(64,128,256,512)</p>\n",
    "\n",
    "ーーーーーーーーーーーーーーーーーーーーーーーーーーーーーーーーーーーーーーーーーーーーーーーーー\n",
    "\n",
    "<font color=\"#FFB6C1\">⑨その他</font><br>\n",
    "<p style=\"text-indent:1em\">(64,128,256,512),(128,128,32,32),(128,128,64,64),(128,128,256,256),(128,128,512,512)</p><br>\n",
    "<p　style=\"text-indent:1em\"><font color=\"#FFB6C1\">結果</font></p>\n",
    "<p　style=\"text-indent:2em\">(64,128,256,512)</p>\n",
    "\n",
    "ーーーーーーーーーーーーーーーーーーーーーーーーーーーーーーーーーーーーーーーーーーーーーーーーー\n",
    "\n",
    "<font color=\"#FFB6C1\">⑨その他</font><br>\n",
    "<p style=\"text-indent:1em\">(64,128,256,512),(256,256,32,32),(256,256,64,64),(256,256,128,128),(256,256,512,512)</p><br>\n",
    "<p　style=\"text-indent:1em\"><font color=\"#FFB6C1\">結果</font></p>\n",
    "<p　style=\"text-indent:2em\">(64,128,256,512)</p>\n",
    "\n",
    "ーーーーーーーーーーーーーーーーーーーーーーーーーーーーーーーーーーーーーーーーーーーーーーーーー\n",
    "\n",
    "<font color=\"#FFB6C1\">⑨その他</font><br>\n",
    "<p style=\"text-indent:1em\">(64,128,256,512),(512,512,32,32),(512,512,64,64),(512,512,128,128),(512,512,256,256)</p><br>\n",
    "<p　style=\"text-indent:1em\"><font color=\"#FFB6C1\">結果</font></p>\n",
    "<p　style=\"text-indent:2em\">(512,512,32,32)</p>"
   ]
  },
  {
   "cell_type": "markdown",
   "metadata": {},
   "source": [
    "<p>最適なパラメータ</p>\n",
    "\n",
    "|項目|male|\n",
    "|----|----|\n",
    "|学習率|0.008|\n",
    "|学習回数|200|\n",
    "|ユニット数|(64,128,256,512)|"
   ]
  },
  {
   "cell_type": "code",
   "execution_count": 9,
   "metadata": {},
   "outputs": [],
   "source": [
    "\"\"\"基本モデルの作成：回帰\n",
    "\"\"\"\n",
    "from sklearn.neural_network import MLPRegressor\n",
    "clf=MLPRegressor(\n",
    "    random_state=1234)"
   ]
  },
  {
   "cell_type": "code",
   "execution_count": 10,
   "metadata": {},
   "outputs": [
    {
     "name": "stderr",
     "output_type": "stream",
     "text": [
      "c:\\users\\aika\\appdata\\local\\programs\\python\\python37-32\\lib\\site-packages\\sklearn\\neural_network\\_multilayer_perceptron.py:1342: DataConversionWarning: A column-vector y was passed when a 1d array was expected. Please change the shape of y to (n_samples, ), for example using ravel().\n",
      "  y = column_or_1d(y, warn=True)\n",
      "c:\\users\\aika\\appdata\\local\\programs\\python\\python37-32\\lib\\site-packages\\sklearn\\neural_network\\_multilayer_perceptron.py:1342: DataConversionWarning: A column-vector y was passed when a 1d array was expected. Please change the shape of y to (n_samples, ), for example using ravel().\n",
      "  y = column_or_1d(y, warn=True)\n",
      "c:\\users\\aika\\appdata\\local\\programs\\python\\python37-32\\lib\\site-packages\\sklearn\\neural_network\\_multilayer_perceptron.py:1342: DataConversionWarning: A column-vector y was passed when a 1d array was expected. Please change the shape of y to (n_samples, ), for example using ravel().\n",
      "  y = column_or_1d(y, warn=True)\n",
      "c:\\users\\aika\\appdata\\local\\programs\\python\\python37-32\\lib\\site-packages\\sklearn\\neural_network\\_multilayer_perceptron.py:1342: DataConversionWarning: A column-vector y was passed when a 1d array was expected. Please change the shape of y to (n_samples, ), for example using ravel().\n",
      "  y = column_or_1d(y, warn=True)\n",
      "c:\\users\\aika\\appdata\\local\\programs\\python\\python37-32\\lib\\site-packages\\sklearn\\neural_network\\_multilayer_perceptron.py:1342: DataConversionWarning: A column-vector y was passed when a 1d array was expected. Please change the shape of y to (n_samples, ), for example using ravel().\n",
      "  y = column_or_1d(y, warn=True)\n",
      "c:\\users\\aika\\appdata\\local\\programs\\python\\python37-32\\lib\\site-packages\\sklearn\\neural_network\\_multilayer_perceptron.py:1342: DataConversionWarning: A column-vector y was passed when a 1d array was expected. Please change the shape of y to (n_samples, ), for example using ravel().\n",
      "  y = column_or_1d(y, warn=True)\n",
      "c:\\users\\aika\\appdata\\local\\programs\\python\\python37-32\\lib\\site-packages\\sklearn\\neural_network\\_multilayer_perceptron.py:1342: DataConversionWarning: A column-vector y was passed when a 1d array was expected. Please change the shape of y to (n_samples, ), for example using ravel().\n",
      "  y = column_or_1d(y, warn=True)\n",
      "c:\\users\\aika\\appdata\\local\\programs\\python\\python37-32\\lib\\site-packages\\sklearn\\neural_network\\_multilayer_perceptron.py:1342: DataConversionWarning: A column-vector y was passed when a 1d array was expected. Please change the shape of y to (n_samples, ), for example using ravel().\n",
      "  y = column_or_1d(y, warn=True)\n",
      "c:\\users\\aika\\appdata\\local\\programs\\python\\python37-32\\lib\\site-packages\\sklearn\\neural_network\\_multilayer_perceptron.py:1342: DataConversionWarning: A column-vector y was passed when a 1d array was expected. Please change the shape of y to (n_samples, ), for example using ravel().\n",
      "  y = column_or_1d(y, warn=True)\n",
      "c:\\users\\aika\\appdata\\local\\programs\\python\\python37-32\\lib\\site-packages\\sklearn\\neural_network\\_multilayer_perceptron.py:1342: DataConversionWarning: A column-vector y was passed when a 1d array was expected. Please change the shape of y to (n_samples, ), for example using ravel().\n",
      "  y = column_or_1d(y, warn=True)\n",
      "c:\\users\\aika\\appdata\\local\\programs\\python\\python37-32\\lib\\site-packages\\sklearn\\neural_network\\_multilayer_perceptron.py:1342: DataConversionWarning: A column-vector y was passed when a 1d array was expected. Please change the shape of y to (n_samples, ), for example using ravel().\n",
      "  y = column_or_1d(y, warn=True)\n",
      "c:\\users\\aika\\appdata\\local\\programs\\python\\python37-32\\lib\\site-packages\\sklearn\\neural_network\\_multilayer_perceptron.py:1342: DataConversionWarning: A column-vector y was passed when a 1d array was expected. Please change the shape of y to (n_samples, ), for example using ravel().\n",
      "  y = column_or_1d(y, warn=True)\n",
      "c:\\users\\aika\\appdata\\local\\programs\\python\\python37-32\\lib\\site-packages\\sklearn\\neural_network\\_multilayer_perceptron.py:1342: DataConversionWarning: A column-vector y was passed when a 1d array was expected. Please change the shape of y to (n_samples, ), for example using ravel().\n",
      "  y = column_or_1d(y, warn=True)\n",
      "c:\\users\\aika\\appdata\\local\\programs\\python\\python37-32\\lib\\site-packages\\sklearn\\neural_network\\_multilayer_perceptron.py:1342: DataConversionWarning: A column-vector y was passed when a 1d array was expected. Please change the shape of y to (n_samples, ), for example using ravel().\n",
      "  y = column_or_1d(y, warn=True)\n",
      "c:\\users\\aika\\appdata\\local\\programs\\python\\python37-32\\lib\\site-packages\\sklearn\\neural_network\\_multilayer_perceptron.py:1342: DataConversionWarning: A column-vector y was passed when a 1d array was expected. Please change the shape of y to (n_samples, ), for example using ravel().\n",
      "  y = column_or_1d(y, warn=True)\n",
      "c:\\users\\aika\\appdata\\local\\programs\\python\\python37-32\\lib\\site-packages\\sklearn\\neural_network\\_multilayer_perceptron.py:1342: DataConversionWarning: A column-vector y was passed when a 1d array was expected. Please change the shape of y to (n_samples, ), for example using ravel().\n",
      "  y = column_or_1d(y, warn=True)\n",
      "c:\\users\\aika\\appdata\\local\\programs\\python\\python37-32\\lib\\site-packages\\sklearn\\neural_network\\_multilayer_perceptron.py:1342: DataConversionWarning: A column-vector y was passed when a 1d array was expected. Please change the shape of y to (n_samples, ), for example using ravel().\n",
      "  y = column_or_1d(y, warn=True)\n",
      "c:\\users\\aika\\appdata\\local\\programs\\python\\python37-32\\lib\\site-packages\\sklearn\\neural_network\\_multilayer_perceptron.py:1342: DataConversionWarning: A column-vector y was passed when a 1d array was expected. Please change the shape of y to (n_samples, ), for example using ravel().\n",
      "  y = column_or_1d(y, warn=True)\n",
      "c:\\users\\aika\\appdata\\local\\programs\\python\\python37-32\\lib\\site-packages\\sklearn\\neural_network\\_multilayer_perceptron.py:1342: DataConversionWarning: A column-vector y was passed when a 1d array was expected. Please change the shape of y to (n_samples, ), for example using ravel().\n",
      "  y = column_or_1d(y, warn=True)\n",
      "c:\\users\\aika\\appdata\\local\\programs\\python\\python37-32\\lib\\site-packages\\sklearn\\neural_network\\_multilayer_perceptron.py:1342: DataConversionWarning: A column-vector y was passed when a 1d array was expected. Please change the shape of y to (n_samples, ), for example using ravel().\n",
      "  y = column_or_1d(y, warn=True)\n",
      "c:\\users\\aika\\appdata\\local\\programs\\python\\python37-32\\lib\\site-packages\\sklearn\\neural_network\\_multilayer_perceptron.py:1342: DataConversionWarning: A column-vector y was passed when a 1d array was expected. Please change the shape of y to (n_samples, ), for example using ravel().\n",
      "  y = column_or_1d(y, warn=True)\n",
      "c:\\users\\aika\\appdata\\local\\programs\\python\\python37-32\\lib\\site-packages\\sklearn\\neural_network\\_multilayer_perceptron.py:1342: DataConversionWarning: A column-vector y was passed when a 1d array was expected. Please change the shape of y to (n_samples, ), for example using ravel().\n",
      "  y = column_or_1d(y, warn=True)\n",
      "c:\\users\\aika\\appdata\\local\\programs\\python\\python37-32\\lib\\site-packages\\sklearn\\neural_network\\_multilayer_perceptron.py:1342: DataConversionWarning: A column-vector y was passed when a 1d array was expected. Please change the shape of y to (n_samples, ), for example using ravel().\n",
      "  y = column_or_1d(y, warn=True)\n",
      "c:\\users\\aika\\appdata\\local\\programs\\python\\python37-32\\lib\\site-packages\\sklearn\\neural_network\\_multilayer_perceptron.py:1342: DataConversionWarning: A column-vector y was passed when a 1d array was expected. Please change the shape of y to (n_samples, ), for example using ravel().\n",
      "  y = column_or_1d(y, warn=True)\n",
      "c:\\users\\aika\\appdata\\local\\programs\\python\\python37-32\\lib\\site-packages\\sklearn\\neural_network\\_multilayer_perceptron.py:1342: DataConversionWarning: A column-vector y was passed when a 1d array was expected. Please change the shape of y to (n_samples, ), for example using ravel().\n",
      "  y = column_or_1d(y, warn=True)\n",
      "c:\\users\\aika\\appdata\\local\\programs\\python\\python37-32\\lib\\site-packages\\sklearn\\neural_network\\_multilayer_perceptron.py:1342: DataConversionWarning: A column-vector y was passed when a 1d array was expected. Please change the shape of y to (n_samples, ), for example using ravel().\n",
      "  y = column_or_1d(y, warn=True)\n"
     ]
    },
    {
     "data": {
      "text/plain": [
       "GridSearchCV(cv=None, error_score=nan,\n",
       "             estimator=MLPRegressor(activation='relu', alpha=0.0001,\n",
       "                                    batch_size='auto', beta_1=0.9, beta_2=0.999,\n",
       "                                    early_stopping=False, epsilon=1e-08,\n",
       "                                    hidden_layer_sizes=(100,),\n",
       "                                    learning_rate='constant',\n",
       "                                    learning_rate_init=0.001, max_fun=15000,\n",
       "                                    max_iter=200, momentum=0.9,\n",
       "                                    n_iter_no_change=10,\n",
       "                                    nesterovs_momentum=True, power_t=0.5,\n",
       "                                    random_sta...\n",
       "                                    solver='adam', tol=0.0001,\n",
       "                                    validation_fraction=0.1, verbose=False,\n",
       "                                    warm_start=False),\n",
       "             iid='deprecated', n_jobs=None,\n",
       "             param_grid={'hidden_layer_sizes': [(64, 128, 256, 512),\n",
       "                                                (512, 512, 32, 32),\n",
       "                                                (512, 512, 64, 64),\n",
       "                                                (512, 512, 128, 128),\n",
       "                                                (512, 512, 256, 256)],\n",
       "                         'learning_rate_init': [0.008], 'max_iter': [200]},\n",
       "             pre_dispatch='2*n_jobs', refit=True, return_train_score=False,\n",
       "             scoring=None, verbose=0)"
      ]
     },
     "execution_count": 10,
     "metadata": {},
     "output_type": "execute_result"
    }
   ],
   "source": [
    "\"\"\"グリッドサーチで学習率、学習回数、ユニット数の算出\n",
    "\"\"\"\n",
    "from sklearn import model_selection\n",
    "clf_cv=model_selection.GridSearchCV(\n",
    "    clf,\n",
    "    {\n",
    "        \"learning_rate_init\":[0.008],\n",
    "        \"max_iter\":[200],\n",
    "        \"hidden_layer_sizes\":[(64,128,256,512),(512,512,32,32),(512,512,64,64),(512,512,128,128),(512,512,256,256)]\n",
    "    },\n",
    ")\n",
    "clf_cv.fit(X_train_m,y_train_m)"
   ]
  },
  {
   "cell_type": "code",
   "execution_count": 11,
   "metadata": {},
   "outputs": [
    {
     "data": {
      "text/plain": [
       "{'hidden_layer_sizes': (64, 128, 256, 512),\n",
       " 'learning_rate_init': 0.008,\n",
       " 'max_iter': 200}"
      ]
     },
     "execution_count": 11,
     "metadata": {},
     "output_type": "execute_result"
    }
   ],
   "source": [
    "#最適なパラメータの値\n",
    "clf_cv.best_params_"
   ]
  },
  {
   "cell_type": "markdown",
   "metadata": {},
   "source": [
    "### ●ニューラルネット"
   ]
  },
  {
   "cell_type": "code",
   "execution_count": 12,
   "metadata": {},
   "outputs": [],
   "source": [
    "\"\"\"基本モデルの作成：回帰\n",
    "\"\"\"\n",
    "#最適なパラメーターでモデルを作成\n",
    "clf=MLPRegressor(**clf_cv.best_params_,random_state=1234)"
   ]
  },
  {
   "cell_type": "code",
   "execution_count": 13,
   "metadata": {},
   "outputs": [],
   "source": [
    "\"\"\"X_train_mとX_test_mをnumpy配列に変化し、正規化\n",
    "\"\"\"\n",
    "from scipy.stats import zscore\n",
    "train_array_m=np.array(X_train_m)\n",
    "train_array_m=train_array_m.astype(int)\n",
    "X_train_array_m=zscore(train_array_m)\n",
    "\n",
    "test_array_m=np.array(X_test_m)\n",
    "test_array_m=test_array_m.astype(int)\n",
    "X_test_array_m=zscore(test_array_m)"
   ]
  },
  {
   "cell_type": "code",
   "execution_count": 14,
   "metadata": {},
   "outputs": [],
   "source": [
    "\"\"\"y_train_m,y_test_mを一次元に変換\n",
    "\"\"\"\n",
    "y_train_m=y_train_m.values.flatten()\n",
    "y_test_m=y_test_m.values.flatten()"
   ]
  },
  {
   "cell_type": "code",
   "execution_count": 15,
   "metadata": {},
   "outputs": [
    {
     "data": {
      "text/plain": [
       "MLPRegressor(activation='relu', alpha=0.0001, batch_size='auto', beta_1=0.9,\n",
       "             beta_2=0.999, early_stopping=False, epsilon=1e-08,\n",
       "             hidden_layer_sizes=(64, 128, 256, 512), learning_rate='constant',\n",
       "             learning_rate_init=0.008, max_fun=15000, max_iter=200,\n",
       "             momentum=0.9, n_iter_no_change=10, nesterovs_momentum=True,\n",
       "             power_t=0.5, random_state=1234, shuffle=True, solver='adam',\n",
       "             tol=0.0001, validation_fraction=0.1, verbose=False,\n",
       "             warm_start=False)"
      ]
     },
     "execution_count": 15,
     "metadata": {},
     "output_type": "execute_result"
    }
   ],
   "source": [
    "\"\"\"モデルの最適化\n",
    "\"\"\"\n",
    "#説明変数：X_train_array_m　目的変数,実測値：y_train_m\n",
    "clf.fit(X_train_array_m,y_train_m)"
   ]
  },
  {
   "cell_type": "code",
   "execution_count": 16,
   "metadata": {},
   "outputs": [],
   "source": [
    "\"\"\"予測値の算出(訓練データ)\n",
    "\"\"\"\n",
    "\n",
    "#予測値：y_train_predict_m　　説明変数：X_train_array_m\n",
    "y_train_predict_m=clf.predict(X_train_array_m)"
   ]
  },
  {
   "cell_type": "markdown",
   "metadata": {},
   "source": [
    "#### <font color=\"#FFD700\">さらに精度を上げる為に実測値から予測値を引いた値を予測する</font>"
   ]
  },
  {
   "cell_type": "code",
   "execution_count": 17,
   "metadata": {},
   "outputs": [],
   "source": [
    "\"\"\"基本モデルの作成：回帰\n",
    "\"\"\"\n",
    "#最適なパラメーターでモデルを作成\n",
    "clf_=MLPRegressor(**clf_cv.best_params_,random_state=1234)"
   ]
  },
  {
   "cell_type": "code",
   "execution_count": 18,
   "metadata": {},
   "outputs": [],
   "source": [
    "\"\"\"実測値-予測値の差分 = 実測値 - 予測値\n",
    "\"\"\"\n",
    "#差分：train_difference_m　　実測値：y_train_m　　予測値：y_train_predict_m\n",
    "train_difference_m=y_train_m-y_train_predict_m"
   ]
  },
  {
   "cell_type": "code",
   "execution_count": 19,
   "metadata": {},
   "outputs": [
    {
     "data": {
      "text/plain": [
       "MLPRegressor(activation='relu', alpha=0.0001, batch_size='auto', beta_1=0.9,\n",
       "             beta_2=0.999, early_stopping=False, epsilon=1e-08,\n",
       "             hidden_layer_sizes=(64, 128, 256, 512), learning_rate='constant',\n",
       "             learning_rate_init=0.008, max_fun=15000, max_iter=200,\n",
       "             momentum=0.9, n_iter_no_change=10, nesterovs_momentum=True,\n",
       "             power_t=0.5, random_state=1234, shuffle=True, solver='adam',\n",
       "             tol=0.0001, validation_fraction=0.1, verbose=False,\n",
       "             warm_start=False)"
      ]
     },
     "execution_count": 19,
     "metadata": {},
     "output_type": "execute_result"
    }
   ],
   "source": [
    "\"\"\"差分を目的変数として学習させる(説明変数は同じ)\n",
    "\"\"\"\n",
    "\n",
    "#説明変数：X_train_array_m　　目的変数,差分：train_difference_m\n",
    "clf_.fit(X_train_array_m,train_difference_m)"
   ]
  },
  {
   "cell_type": "code",
   "execution_count": 20,
   "metadata": {},
   "outputs": [],
   "source": [
    "\"\"\"差分の予測値の算出\n",
    "\"\"\"\n",
    "\n",
    "#差分の予測値：train_difference_predict_m　　説明変数：X_train_array_m\n",
    "train_difference_predict_m=clf_.predict(X_train_array_m)"
   ]
  },
  {
   "cell_type": "code",
   "execution_count": 21,
   "metadata": {},
   "outputs": [],
   "source": [
    "\"\"\"実測値に近い値=予測値+差分の予測値\n",
    "\"\"\"\n",
    "\n",
    "#実測値に近い値：train_difference_predict_m_　　予測値：y_train_predict_m　　差分の予測値：train_difference_predict_m\n",
    "train_difference_predict_m_=y_train_predict_m+train_difference_predict_m"
   ]
  },
  {
   "cell_type": "code",
   "execution_count": 22,
   "metadata": {},
   "outputs": [],
   "source": [
    "\"\"\"値の置換\n",
    "\"\"\"\n",
    "#train_difference_predict_m_が0.5以上なら1　　train_difference_predict_m_が0.5以下なら0に置き換え\n",
    "train_difference_predict_m_=[1 if o>0.5 else o for o in train_difference_predict_m_]\n",
    "train_difference_predict_m_=[0 if i<0.5 else i for i in train_difference_predict_m_]"
   ]
  },
  {
   "cell_type": "code",
   "execution_count": 23,
   "metadata": {},
   "outputs": [
    {
     "name": "stdout",
     "output_type": "stream",
     "text": [
      "Requirement already satisfied: seaborn in c:\\users\\aika\\appdata\\local\\programs\\python\\python37-32\\lib\\site-packages (0.10.1)\n",
      "Requirement already satisfied: scipy>=1.0.1 in c:\\users\\aika\\appdata\\local\\programs\\python\\python37-32\\lib\\site-packages (from seaborn) (1.4.1)\n",
      "Requirement already satisfied: matplotlib>=2.1.2 in c:\\users\\aika\\appdata\\local\\programs\\python\\python37-32\\lib\\site-packages (from seaborn) (3.1.2)\n",
      "Requirement already satisfied: numpy>=1.13.3 in c:\\users\\aika\\appdata\\local\\programs\\python\\python37-32\\lib\\site-packages (from seaborn) (1.18.0)\n",
      "Requirement already satisfied: pandas>=0.22.0 in c:\\users\\aika\\appdata\\local\\programs\\python\\python37-32\\lib\\site-packages (from seaborn) (0.25.3)\n",
      "Requirement already satisfied: python-dateutil>=2.1 in c:\\users\\aika\\appdata\\local\\programs\\python\\python37-32\\lib\\site-packages (from matplotlib>=2.1.2->seaborn) (2.8.1)\n",
      "Requirement already satisfied: cycler>=0.10 in c:\\users\\aika\\appdata\\local\\programs\\python\\python37-32\\lib\\site-packages (from matplotlib>=2.1.2->seaborn) (0.10.0)\n",
      "Requirement already satisfied: kiwisolver>=1.0.1 in c:\\users\\aika\\appdata\\local\\programs\\python\\python37-32\\lib\\site-packages (from matplotlib>=2.1.2->seaborn) (1.1.0)\n",
      "Requirement already satisfied: pyparsing!=2.0.4,!=2.1.2,!=2.1.6,>=2.0.1 in c:\\users\\aika\\appdata\\local\\programs\\python\\python37-32\\lib\\site-packages (from matplotlib>=2.1.2->seaborn) (2.4.6)\n",
      "Requirement already satisfied: pytz>=2017.2 in c:\\users\\aika\\appdata\\local\\programs\\python\\python37-32\\lib\\site-packages (from pandas>=0.22.0->seaborn) (2019.3)\n",
      "Requirement already satisfied: six>=1.5 in c:\\users\\aika\\appdata\\local\\programs\\python\\python37-32\\lib\\site-packages (from python-dateutil>=2.1->matplotlib>=2.1.2->seaborn) (1.13.0)\n",
      "Requirement already satisfied: setuptools in c:\\users\\aika\\appdata\\local\\programs\\python\\python37-32\\lib\\site-packages (from kiwisolver>=1.0.1->matplotlib>=2.1.2->seaborn) (40.8.0)\n"
     ]
    },
    {
     "name": "stderr",
     "output_type": "stream",
     "text": [
      "WARNING: You are using pip version 20.0.2; however, version 20.1.1 is available.\n",
      "You should consider upgrading via the 'c:\\users\\aika\\appdata\\local\\programs\\python\\python37-32\\python.exe -m pip install --upgrade pip' command.\n"
     ]
    }
   ],
   "source": [
    "\"\"\"ライブラリのインストール\n",
    "\"\"\"\n",
    "!pip install seaborn\n",
    "import matplotlib.pyplot as plt\n",
    "import seaborn as sns"
   ]
  },
  {
   "cell_type": "code",
   "execution_count": 24,
   "metadata": {},
   "outputs": [
    {
     "data": {
      "text/plain": [
       "<matplotlib.axes._subplots.AxesSubplot at 0x122f3d50>"
      ]
     },
     "execution_count": 24,
     "metadata": {},
     "output_type": "execute_result"
    },
    {
     "data": {
      "image/png": "[encoded data removed]",
      "text/plain": [
       "<Figure size 432x288 with 2 Axes>"
      ]
     },
     "metadata": {
      "needs_background": "light"
     },
     "output_type": "display_data"
    }
   ],
   "source": [
    "\"\"\"混同行列の表示\n",
    "\"\"\"\n",
    "from sklearn.metrics import confusion_matrix\n",
    "\n",
    "#混同行列(Confusion Matrix)\n",
    "cm=confusion_matrix(y_train_m, train_difference_predict_m_)\n",
    "\n",
    "#fmt=\"d\":整数で表示\n",
    "sns.heatmap(cm, annot=True, cmap='Blues',fmt=\"d\")"
   ]
  },
  {
   "cell_type": "code",
   "execution_count": 25,
   "metadata": {},
   "outputs": [
    {
     "name": "stdout",
     "output_type": "stream",
     "text": [
      "精度: 0.836\n"
     ]
    }
   ],
   "source": [
    "\"\"\"精度の評価\n",
    "\"\"\"\n",
    "from sklearn.metrics import accuracy_score, precision_score, recall_score, f1_score\n",
    "print(\"精度:\",round(accuracy_score(y_train_m, train_difference_predict_m_),3))"
   ]
  },
  {
   "cell_type": "code",
   "execution_count": 26,
   "metadata": {},
   "outputs": [],
   "source": [
    "\"\"\"予測値の算出(テストデータ)\n",
    "\"\"\"\n",
    "\n",
    "#予測値：y_test_predict_m　　説明変数：X_test_array_m\n",
    "y_test_predict_m=clf.predict(X_test_array_m)"
   ]
  },
  {
   "cell_type": "markdown",
   "metadata": {},
   "source": [
    "#### <font color=\"#FFD700\">さらに精度を上げる為に実測値から予測値を引いた値を予測する</font>"
   ]
  },
  {
   "cell_type": "code",
   "execution_count": 27,
   "metadata": {},
   "outputs": [],
   "source": [
    "\"\"\"実測値-予測値の差分 = 実測値 - 予測値\n",
    "\"\"\"\n",
    "#差分：test_difference_m　　実測値：y_test_m　　予測値：y_test_predict_m\n",
    "test_difference_m=y_test_m-y_test_predict_m"
   ]
  },
  {
   "cell_type": "code",
   "execution_count": 28,
   "metadata": {},
   "outputs": [],
   "source": [
    "\"\"\"差分の予測値の算出\n",
    "\"\"\"\n",
    "\n",
    "#差分の予測値：test_difference_predict_m　　説明変数：X_test_array_m\n",
    "test_difference_predict_m=clf_.predict(X_test_array_m)"
   ]
  },
  {
   "cell_type": "code",
   "execution_count": 29,
   "metadata": {},
   "outputs": [],
   "source": [
    "\"\"\"実測値に近い値=予測値+差分の予測値\n",
    "\"\"\"\n",
    "\n",
    "#実測値に近い値：test_difference_predict_m_　　予測値：y_test_predict_m　　差分の予測値：test_difference_predict_m\n",
    "test_difference_predict_m_=y_test_predict_m+test_difference_predict_m"
   ]
  },
  {
   "cell_type": "code",
   "execution_count": 30,
   "metadata": {},
   "outputs": [],
   "source": [
    "\"\"\"値の置換\n",
    "\"\"\"\n",
    "test_difference_predict_m_が0.5以上なら1　　test_difference_predict_m_が0.5以下なら0に置き換え\n",
    "test_difference_predict_m_=[1 if o>0.5 else o for o in test_difference_predict_m_]\n",
    "test_difference_predict_m_=[0 if i<0.5 else i for i in test_difference_predict_m_]"
   ]
  },
  {
   "cell_type": "code",
   "execution_count": 31,
   "metadata": {},
   "outputs": [
    {
     "data": {
      "text/plain": [
       "<matplotlib.axes._subplots.AxesSubplot at 0x1387a1f0>"
      ]
     },
     "execution_count": 31,
     "metadata": {},
     "output_type": "execute_result"
    },
    {
     "data": {
      "image/png": "[encoded data removed]",
      "text/plain": [
       "<Figure size 432x288 with 2 Axes>"
      ]
     },
     "metadata": {
      "needs_background": "light"
     },
     "output_type": "display_data"
    }
   ],
   "source": [
    "\"\"\"混同行列の表示\n",
    "\"\"\"\n",
    "from sklearn.metrics import confusion_matrix\n",
    "\n",
    "#混同行列(Confusion Matrix)\n",
    "cm=confusion_matrix(y_test_m, test_difference_predict_m_)\n",
    "\n",
    "#fmt=\"d\":整数で表示\n",
    "sns.heatmap(cm, annot=True, cmap='Blues',fmt=\"d\")"
   ]
  },
  {
   "cell_type": "code",
   "execution_count": 32,
   "metadata": {},
   "outputs": [
    {
     "name": "stdout",
     "output_type": "stream",
     "text": [
      "精度: 0.851\n"
     ]
    }
   ],
   "source": [
    "\"\"\"精度の評価\n",
    "\"\"\"\n",
    "from sklearn.metrics import accuracy_score, precision_score, recall_score, f1_score\n",
    "print(\"精度:\",round(accuracy_score(y_test_m, test_difference_predict_m_),3))"
   ]
  },
  {
   "cell_type": "markdown",
   "metadata": {},
   "source": [
    "### <font color=\"#da70d6\">female(女)の分析</font>"
   ]
  },
  {
   "cell_type": "markdown",
   "metadata": {},
   "source": [
    "### ●グリッドサーチ"
   ]
  },
  {
   "cell_type": "markdown",
   "metadata": {},
   "source": [
    "<font color=\"#FFB6C1\">①最適な学習率の算出</font><br>\n",
    "<p style=\"text-indent:1em\">(0.005),(0.006),(0.007),(0.008),(0.009),(0.01)</p><br>\n",
    "<p　style=\"text-indent:1em\"><font color=\"#FFB6C1\">結果</font></p>\n",
    "<p　style=\"text-indent:2em\">0.008</p>"
   ]
  },
  {
   "cell_type": "markdown",
   "metadata": {},
   "source": [
    "<font color=\"#FFB6C1\">②最適な学習回数の算出</font><br>\n",
    "<p　style=\"text-indent:1em\">学習率を0.008に固定</p>\n",
    "<p style=\"text-indent:1em\">(100),(200),(300),(400),(500)</p><br>\n",
    "<p　style=\"text-indent:1em\"><font color=\"#FFB6C1\">結果</font></p>\n",
    "<p　style=\"text-indent:2em\">200</p>"
   ]
  },
  {
   "cell_type": "markdown",
   "metadata": {},
   "source": [
    "<font color=\"#FFB6C1\">③最適な中間層数の算出</font><br>\n",
    "<p　style=\"text-indent:1em\">学習率を0.008、学習回数を200に固定</p>\n",
    "<p style=\"text-indent:1em\">(64),(64,64),(64,64,64),(64,64,64,64),(64,64,64,64,64)</p><br>\n",
    "<p　style=\"text-indent:1em\"><font color=\"#FFB6C1\">結果</font></p>\n",
    "<p　style=\"text-indent:2em\">(64,64,64)→3個</p>"
   ]
  },
  {
   "cell_type": "markdown",
   "metadata": {},
   "source": [
    "<font color=\"#FFB6C1\">④単調増加</font><br>\n",
    "<p　style=\"text-indent:1em\">学習率を0.008、学習回数を200に固定</p>\n",
    "<p style=\"text-indent:1em\">(32,64,128),(64,128,256),(128,256,512)</p><br>\n",
    "<p　style=\"text-indent:1em\"><font color=\"#FFB6C1\">結果</font></p>\n",
    "<p　style=\"text-indent:2em\">(32,64,128)</p>"
   ]
  },
  {
   "cell_type": "markdown",
   "metadata": {},
   "source": [
    "<font color=\"#FFB6C1\">⑤単調減少</font><br>\n",
    "<p　style=\"text-indent:1em\">学習率を0.008、学習回数を200に固定</p>\n",
    "<p style=\"text-indent:1em\">(32,64,128),(512,256,128),(256,128,64),(128,64,32)</p><br>\n",
    "<p　style=\"text-indent:1em\"><font color=\"#FFB6C1\">結果</font></p>\n",
    "<p　style=\"text-indent:2em\">(256,128,64)</p>"
   ]
  },
  {
   "cell_type": "markdown",
   "metadata": {},
   "source": [
    "<font color=\"#FFB6C1\">⑥単調</font><br>\n",
    "<p　style=\"text-indent:1em\">学習率を0.008、学習回数を200に固定</p>\n",
    "<p style=\"text-indent:1em\">(256,128,64),(32,32,32),(64,64,64),(128,128,128),(256,256,256),(512,512,512)</p><br>\n",
    "<p　style=\"text-indent:1em\"><font color=\"#FFB6C1\">結果</font></p>\n",
    "<p　style=\"text-indent:2em\">(256,128,64)</p>"
   ]
  },
  {
   "cell_type": "markdown",
   "metadata": {},
   "source": [
    "<font color=\"#FFB6C1\">⑦山なり</font><br>\n",
    "<p　style=\"text-indent:1em\">学習率を0.008、学習回数を200に固定、中間層数は4個</p>\n",
    "<p style=\"text-indent:1em\">(256,128,64),(32,64,32),(32,128,32),(32,256,32),(32,256,32),(32,512,32)</p><br>\n",
    "<p　style=\"text-indent:1em\"><font color=\"#FFB6C1\">結果</font></p>\n",
    "<p　style=\"text-indent:2em\">(32,512,32)</p>\n",
    "\n",
    "ーーーーーーーーーーーーーーーーーーーーーーーーーーーーーーーーーーーーーーーーーーーーーーーーー\n",
    "\n",
    "\n",
    "<font color=\"#FFB6C1\">⑦山なり</font><br>\n",
    "<p style=\"text-indent:1em\">(32,512,32),(64,32,64),(64,128,64),(64,256,64),(64,512,64)</p><br>\n",
    "<p　style=\"text-indent:1em\"><font color=\"#FFB6C1\">結果</font></p>\n",
    "<p　style=\"text-indent:2em\">(32,512,32)</p>\n",
    "\n",
    "ーーーーーーーーーーーーーーーーーーーーーーーーーーーーーーーーーーーーーーーーーーーーーーーーー\n",
    "\n",
    "<font color=\"#FFB6C1\">⑦山なり</font><br>\n",
    "<p style=\"text-indent:1em\">(32,512,32),(128,32,128),(128,64,128),(128,256,128),(128,512,128)</p><br>\n",
    "<p　style=\"text-indent:1em\"><font color=\"#FFB6C1\">結果</font></p>\n",
    "<p　style=\"text-indent:2em\">(32,512,32)</p>\n",
    "\n",
    "ーーーーーーーーーーーーーーーーーーーーーーーーーーーーーーーーーーーーーーーーーーーーーーーーー\n",
    "\n",
    "<font color=\"#FFB6C1\">⑦山なり</font><br>\n",
    "<p style=\"text-indent:1em\">(32,512,32),(256,32,256),(256,64,256),(256,128,256),(256,512,256)</p><br>\n",
    "<p　style=\"text-indent:1em\"><font color=\"#FFB6C1\">結果</font></p>\n",
    "<p　style=\"text-indent:2em\">(32,512,32)</p>\n",
    "\n",
    "ーーーーーーーーーーーーーーーーーーーーーーーーーーーーーーーーーーーーーーーーーーーーーーーーー\n",
    "\n",
    "<font color=\"#FFB6C1\">⑦山なり</font><br>\n",
    "<p style=\"text-indent:1em\">(32,512,32),(512,32,512),(512,64,512),(512,128,512),(512,256,512)</p><br>\n",
    "<p　style=\"text-indent:1em\"><font color=\"#FFB6C1\">結果</font></p>\n",
    "<p　style=\"text-indent:2em\">(32,512,32)</p>"
   ]
  },
  {
   "cell_type": "markdown",
   "metadata": {},
   "source": [
    "<p>最適なハイパーパラメータ</p>\n",
    "\n",
    "|項目|female|\n",
    "|----|----|\n",
    "|学習率|0.008|\n",
    "|学習回数|200|\n",
    "|ユニット数|(32,512,32)|"
   ]
  },
  {
   "cell_type": "code",
   "execution_count": 33,
   "metadata": {},
   "outputs": [],
   "source": [
    "\"\"\"基本モデルの作成：回帰\n",
    "\"\"\"\n",
    "from sklearn.neural_network import MLPRegressor\n",
    "clf=MLPRegressor(\n",
    "    random_state=1234)"
   ]
  },
  {
   "cell_type": "code",
   "execution_count": 34,
   "metadata": {},
   "outputs": [
    {
     "name": "stderr",
     "output_type": "stream",
     "text": [
      "c:\\users\\aika\\appdata\\local\\programs\\python\\python37-32\\lib\\site-packages\\sklearn\\neural_network\\_multilayer_perceptron.py:1342: DataConversionWarning: A column-vector y was passed when a 1d array was expected. Please change the shape of y to (n_samples, ), for example using ravel().\n",
      "  y = column_or_1d(y, warn=True)\n",
      "c:\\users\\aika\\appdata\\local\\programs\\python\\python37-32\\lib\\site-packages\\sklearn\\neural_network\\_multilayer_perceptron.py:1342: DataConversionWarning: A column-vector y was passed when a 1d array was expected. Please change the shape of y to (n_samples, ), for example using ravel().\n",
      "  y = column_or_1d(y, warn=True)\n",
      "c:\\users\\aika\\appdata\\local\\programs\\python\\python37-32\\lib\\site-packages\\sklearn\\neural_network\\_multilayer_perceptron.py:1342: DataConversionWarning: A column-vector y was passed when a 1d array was expected. Please change the shape of y to (n_samples, ), for example using ravel().\n",
      "  y = column_or_1d(y, warn=True)\n",
      "c:\\users\\aika\\appdata\\local\\programs\\python\\python37-32\\lib\\site-packages\\sklearn\\neural_network\\_multilayer_perceptron.py:1342: DataConversionWarning: A column-vector y was passed when a 1d array was expected. Please change the shape of y to (n_samples, ), for example using ravel().\n",
      "  y = column_or_1d(y, warn=True)\n",
      "c:\\users\\aika\\appdata\\local\\programs\\python\\python37-32\\lib\\site-packages\\sklearn\\neural_network\\_multilayer_perceptron.py:1342: DataConversionWarning: A column-vector y was passed when a 1d array was expected. Please change the shape of y to (n_samples, ), for example using ravel().\n",
      "  y = column_or_1d(y, warn=True)\n",
      "c:\\users\\aika\\appdata\\local\\programs\\python\\python37-32\\lib\\site-packages\\sklearn\\neural_network\\_multilayer_perceptron.py:1342: DataConversionWarning: A column-vector y was passed when a 1d array was expected. Please change the shape of y to (n_samples, ), for example using ravel().\n",
      "  y = column_or_1d(y, warn=True)\n",
      "c:\\users\\aika\\appdata\\local\\programs\\python\\python37-32\\lib\\site-packages\\sklearn\\neural_network\\_multilayer_perceptron.py:1342: DataConversionWarning: A column-vector y was passed when a 1d array was expected. Please change the shape of y to (n_samples, ), for example using ravel().\n",
      "  y = column_or_1d(y, warn=True)\n",
      "c:\\users\\aika\\appdata\\local\\programs\\python\\python37-32\\lib\\site-packages\\sklearn\\neural_network\\_multilayer_perceptron.py:1342: DataConversionWarning: A column-vector y was passed when a 1d array was expected. Please change the shape of y to (n_samples, ), for example using ravel().\n",
      "  y = column_or_1d(y, warn=True)\n",
      "c:\\users\\aika\\appdata\\local\\programs\\python\\python37-32\\lib\\site-packages\\sklearn\\neural_network\\_multilayer_perceptron.py:1342: DataConversionWarning: A column-vector y was passed when a 1d array was expected. Please change the shape of y to (n_samples, ), for example using ravel().\n",
      "  y = column_or_1d(y, warn=True)\n",
      "c:\\users\\aika\\appdata\\local\\programs\\python\\python37-32\\lib\\site-packages\\sklearn\\neural_network\\_multilayer_perceptron.py:1342: DataConversionWarning: A column-vector y was passed when a 1d array was expected. Please change the shape of y to (n_samples, ), for example using ravel().\n",
      "  y = column_or_1d(y, warn=True)\n",
      "c:\\users\\aika\\appdata\\local\\programs\\python\\python37-32\\lib\\site-packages\\sklearn\\neural_network\\_multilayer_perceptron.py:1342: DataConversionWarning: A column-vector y was passed when a 1d array was expected. Please change the shape of y to (n_samples, ), for example using ravel().\n",
      "  y = column_or_1d(y, warn=True)\n",
      "c:\\users\\aika\\appdata\\local\\programs\\python\\python37-32\\lib\\site-packages\\sklearn\\neural_network\\_multilayer_perceptron.py:1342: DataConversionWarning: A column-vector y was passed when a 1d array was expected. Please change the shape of y to (n_samples, ), for example using ravel().\n",
      "  y = column_or_1d(y, warn=True)\n",
      "c:\\users\\aika\\appdata\\local\\programs\\python\\python37-32\\lib\\site-packages\\sklearn\\neural_network\\_multilayer_perceptron.py:1342: DataConversionWarning: A column-vector y was passed when a 1d array was expected. Please change the shape of y to (n_samples, ), for example using ravel().\n",
      "  y = column_or_1d(y, warn=True)\n",
      "c:\\users\\aika\\appdata\\local\\programs\\python\\python37-32\\lib\\site-packages\\sklearn\\neural_network\\_multilayer_perceptron.py:1342: DataConversionWarning: A column-vector y was passed when a 1d array was expected. Please change the shape of y to (n_samples, ), for example using ravel().\n",
      "  y = column_or_1d(y, warn=True)\n",
      "c:\\users\\aika\\appdata\\local\\programs\\python\\python37-32\\lib\\site-packages\\sklearn\\neural_network\\_multilayer_perceptron.py:1342: DataConversionWarning: A column-vector y was passed when a 1d array was expected. Please change the shape of y to (n_samples, ), for example using ravel().\n",
      "  y = column_or_1d(y, warn=True)\n",
      "c:\\users\\aika\\appdata\\local\\programs\\python\\python37-32\\lib\\site-packages\\sklearn\\neural_network\\_multilayer_perceptron.py:1342: DataConversionWarning: A column-vector y was passed when a 1d array was expected. Please change the shape of y to (n_samples, ), for example using ravel().\n",
      "  y = column_or_1d(y, warn=True)\n",
      "c:\\users\\aika\\appdata\\local\\programs\\python\\python37-32\\lib\\site-packages\\sklearn\\neural_network\\_multilayer_perceptron.py:1342: DataConversionWarning: A column-vector y was passed when a 1d array was expected. Please change the shape of y to (n_samples, ), for example using ravel().\n",
      "  y = column_or_1d(y, warn=True)\n",
      "c:\\users\\aika\\appdata\\local\\programs\\python\\python37-32\\lib\\site-packages\\sklearn\\neural_network\\_multilayer_perceptron.py:1342: DataConversionWarning: A column-vector y was passed when a 1d array was expected. Please change the shape of y to (n_samples, ), for example using ravel().\n",
      "  y = column_or_1d(y, warn=True)\n",
      "c:\\users\\aika\\appdata\\local\\programs\\python\\python37-32\\lib\\site-packages\\sklearn\\neural_network\\_multilayer_perceptron.py:1342: DataConversionWarning: A column-vector y was passed when a 1d array was expected. Please change the shape of y to (n_samples, ), for example using ravel().\n",
      "  y = column_or_1d(y, warn=True)\n",
      "c:\\users\\aika\\appdata\\local\\programs\\python\\python37-32\\lib\\site-packages\\sklearn\\neural_network\\_multilayer_perceptron.py:1342: DataConversionWarning: A column-vector y was passed when a 1d array was expected. Please change the shape of y to (n_samples, ), for example using ravel().\n",
      "  y = column_or_1d(y, warn=True)\n",
      "c:\\users\\aika\\appdata\\local\\programs\\python\\python37-32\\lib\\site-packages\\sklearn\\neural_network\\_multilayer_perceptron.py:1342: DataConversionWarning: A column-vector y was passed when a 1d array was expected. Please change the shape of y to (n_samples, ), for example using ravel().\n",
      "  y = column_or_1d(y, warn=True)\n",
      "c:\\users\\aika\\appdata\\local\\programs\\python\\python37-32\\lib\\site-packages\\sklearn\\neural_network\\_multilayer_perceptron.py:1342: DataConversionWarning: A column-vector y was passed when a 1d array was expected. Please change the shape of y to (n_samples, ), for example using ravel().\n",
      "  y = column_or_1d(y, warn=True)\n",
      "c:\\users\\aika\\appdata\\local\\programs\\python\\python37-32\\lib\\site-packages\\sklearn\\neural_network\\_multilayer_perceptron.py:1342: DataConversionWarning: A column-vector y was passed when a 1d array was expected. Please change the shape of y to (n_samples, ), for example using ravel().\n",
      "  y = column_or_1d(y, warn=True)\n",
      "c:\\users\\aika\\appdata\\local\\programs\\python\\python37-32\\lib\\site-packages\\sklearn\\neural_network\\_multilayer_perceptron.py:571: ConvergenceWarning: Stochastic Optimizer: Maximum iterations (200) reached and the optimization hasn't converged yet.\n",
      "  % self.max_iter, ConvergenceWarning)\n",
      "c:\\users\\aika\\appdata\\local\\programs\\python\\python37-32\\lib\\site-packages\\sklearn\\neural_network\\_multilayer_perceptron.py:1342: DataConversionWarning: A column-vector y was passed when a 1d array was expected. Please change the shape of y to (n_samples, ), for example using ravel().\n",
      "  y = column_or_1d(y, warn=True)\n",
      "c:\\users\\aika\\appdata\\local\\programs\\python\\python37-32\\lib\\site-packages\\sklearn\\neural_network\\_multilayer_perceptron.py:1342: DataConversionWarning: A column-vector y was passed when a 1d array was expected. Please change the shape of y to (n_samples, ), for example using ravel().\n",
      "  y = column_or_1d(y, warn=True)\n"
     ]
    },
    {
     "name": "stderr",
     "output_type": "stream",
     "text": [
      "c:\\users\\aika\\appdata\\local\\programs\\python\\python37-32\\lib\\site-packages\\sklearn\\neural_network\\_multilayer_perceptron.py:1342: DataConversionWarning: A column-vector y was passed when a 1d array was expected. Please change the shape of y to (n_samples, ), for example using ravel().\n",
      "  y = column_or_1d(y, warn=True)\n"
     ]
    },
    {
     "data": {
      "text/plain": [
       "GridSearchCV(cv=None, error_score=nan,\n",
       "             estimator=MLPRegressor(activation='relu', alpha=0.0001,\n",
       "                                    batch_size='auto', beta_1=0.9, beta_2=0.999,\n",
       "                                    early_stopping=False, epsilon=1e-08,\n",
       "                                    hidden_layer_sizes=(100,),\n",
       "                                    learning_rate='constant',\n",
       "                                    learning_rate_init=0.001, max_fun=15000,\n",
       "                                    max_iter=200, momentum=0.9,\n",
       "                                    n_iter_no_change=10,\n",
       "                                    nesterovs_momentum=True, power_t=0.5,\n",
       "                                    random_sta...fle=True,\n",
       "                                    solver='adam', tol=0.0001,\n",
       "                                    validation_fraction=0.1, verbose=False,\n",
       "                                    warm_start=False),\n",
       "             iid='deprecated', n_jobs=None,\n",
       "             param_grid={'hidden_layer_sizes': [(32, 512, 32), (512, 32, 512),\n",
       "                                                (512, 64, 512), (512, 128, 512),\n",
       "                                                (512, 256, 512)],\n",
       "                         'learning_rate_init': [0.008], 'max_iter': [200]},\n",
       "             pre_dispatch='2*n_jobs', refit=True, return_train_score=False,\n",
       "             scoring=None, verbose=0)"
      ]
     },
     "execution_count": 34,
     "metadata": {},
     "output_type": "execute_result"
    }
   ],
   "source": [
    "\"\"\"グリッドサーチで学習率、学習回数、ユニット数の算出\n",
    "\"\"\"\n",
    "from sklearn import model_selection\n",
    "clf_cv=model_selection.GridSearchCV(\n",
    "    clf,\n",
    "    {\n",
    "        \"learning_rate_init\":[0.008],\n",
    "        \"max_iter\":[200],\n",
    "        \"hidden_layer_sizes\":[(32,512,32),(512,32,512),(512,64,512),(512,128,512),(512,256,512)]\n",
    "    },\n",
    ")\n",
    "clf_cv.fit(X_train_f,y_train_f)"
   ]
  },
  {
   "cell_type": "code",
   "execution_count": 35,
   "metadata": {},
   "outputs": [
    {
     "data": {
      "text/plain": [
       "{'hidden_layer_sizes': (512, 256, 512),\n",
       " 'learning_rate_init': 0.008,\n",
       " 'max_iter': 200}"
      ]
     },
     "execution_count": 35,
     "metadata": {},
     "output_type": "execute_result"
    }
   ],
   "source": [
    "clf_cv.best_params_"
   ]
  },
  {
   "cell_type": "markdown",
   "metadata": {},
   "source": [
    "### ●ニューラルネット"
   ]
  },
  {
   "cell_type": "code",
   "execution_count": 36,
   "metadata": {},
   "outputs": [],
   "source": [
    "\"\"\"基本モデルの作成：回帰\n",
    "\"\"\"\n",
    "#最適なパラメーターでモデルを作成\n",
    "clf=MLPRegressor(**clf_cv.best_params_,random_state=1234)"
   ]
  },
  {
   "cell_type": "code",
   "execution_count": 37,
   "metadata": {},
   "outputs": [],
   "source": [
    "\"\"\"X_train_fとX_test_fをnumpy配列に変化し、正規化\n",
    "\"\"\"\n",
    "from scipy.stats import zscore\n",
    "train_array_f=np.array(X_train_f)\n",
    "train_array_f=train_array_f.astype(int)\n",
    "X_train_array_f=zscore(train_array_f)\n",
    "\n",
    "test_array_f=np.array(X_test_f)\n",
    "test_array_f=test_array_f.astype(int)\n",
    "X_test_array_f=zscore(test_array_f)"
   ]
  },
  {
   "cell_type": "code",
   "execution_count": 38,
   "metadata": {},
   "outputs": [],
   "source": [
    "\"\"\"y_train_f,y_test_fを一次元に変換\n",
    "\"\"\"\n",
    "y_train_f=y_train_f.values.flatten()\n",
    "y_test_f=y_test_f.values.flatten()"
   ]
  },
  {
   "cell_type": "code",
   "execution_count": 39,
   "metadata": {},
   "outputs": [
    {
     "data": {
      "text/plain": [
       "MLPRegressor(activation='relu', alpha=0.0001, batch_size='auto', beta_1=0.9,\n",
       "             beta_2=0.999, early_stopping=False, epsilon=1e-08,\n",
       "             hidden_layer_sizes=(512, 256, 512), learning_rate='constant',\n",
       "             learning_rate_init=0.008, max_fun=15000, max_iter=200,\n",
       "             momentum=0.9, n_iter_no_change=10, nesterovs_momentum=True,\n",
       "             power_t=0.5, random_state=1234, shuffle=True, solver='adam',\n",
       "             tol=0.0001, validation_fraction=0.1, verbose=False,\n",
       "             warm_start=False)"
      ]
     },
     "execution_count": 39,
     "metadata": {},
     "output_type": "execute_result"
    }
   ],
   "source": [
    "\"\"\"モデルの最適化\n",
    "\"\"\"\n",
    "#説明変数：X_train_array_f　目的変数,実測値：y_train_f\n",
    "clf.fit(X_train_array_f,y_train_f)"
   ]
  },
  {
   "cell_type": "code",
   "execution_count": 40,
   "metadata": {},
   "outputs": [],
   "source": [
    "\"\"\"予測値の算出(訓練データ)\n",
    "\"\"\"\n",
    "\n",
    "#予測値：y_train_predict_f　　説明変数：X_train_array_f\n",
    "y_train_predict_f=clf.predict(X_train_array_f)"
   ]
  },
  {
   "cell_type": "markdown",
   "metadata": {},
   "source": [
    "#### <font color=\"#FFD700\">さらに精度を上げる為に実測値から予測値を引いた値を予測する</font>"
   ]
  },
  {
   "cell_type": "code",
   "execution_count": 41,
   "metadata": {},
   "outputs": [],
   "source": [
    "\"\"\"基本モデルの作成：回帰\n",
    "\"\"\"\n",
    "#最適なパラメーターでモデルを作成\n",
    "clf_=MLPRegressor(**clf_cv.best_params_,random_state=1234)"
   ]
  },
  {
   "cell_type": "code",
   "execution_count": 42,
   "metadata": {},
   "outputs": [],
   "source": [
    "\"\"\"実測値-予測値の差分 = 実測値 - 予測値\n",
    "\"\"\"\n",
    "#差分：train_difference_f　　実測値：y_train_f　　予測値：y_train_predict_f\n",
    "train_difference_f=y_train_f-y_train_predict_f"
   ]
  },
  {
   "cell_type": "code",
   "execution_count": 43,
   "metadata": {},
   "outputs": [
    {
     "data": {
      "text/plain": [
       "MLPRegressor(activation='relu', alpha=0.0001, batch_size='auto', beta_1=0.9,\n",
       "             beta_2=0.999, early_stopping=False, epsilon=1e-08,\n",
       "             hidden_layer_sizes=(512, 256, 512), learning_rate='constant',\n",
       "             learning_rate_init=0.008, max_fun=15000, max_iter=200,\n",
       "             momentum=0.9, n_iter_no_change=10, nesterovs_momentum=True,\n",
       "             power_t=0.5, random_state=1234, shuffle=True, solver='adam',\n",
       "             tol=0.0001, validation_fraction=0.1, verbose=False,\n",
       "             warm_start=False)"
      ]
     },
     "execution_count": 43,
     "metadata": {},
     "output_type": "execute_result"
    }
   ],
   "source": [
    "\"\"\"差分を目的変数として学習させる(説明変数は同じ)\n",
    "\"\"\"\n",
    "\n",
    "#説明変数：X_train_array_f　　目的変数,差分：train_difference_f\n",
    "clf_.fit(X_train_array_f,train_difference_f)"
   ]
  },
  {
   "cell_type": "code",
   "execution_count": 44,
   "metadata": {},
   "outputs": [],
   "source": [
    "\"\"\"差分の予測値の算出\n",
    "\"\"\"\n",
    "\n",
    "#差分の予測値：train_difference_predict_f　　説明変数：X_train_array_f\n",
    "train_difference_predict_f=clf_.predict(X_train_array_f)"
   ]
  },
  {
   "cell_type": "code",
   "execution_count": 45,
   "metadata": {},
   "outputs": [],
   "source": [
    "\"\"\"実測値に近い値=予測値+差分の予測値\n",
    "\"\"\"\n",
    "\n",
    "#実測値に近い値：train_difference_predict_f_　　予測値：y_train_predict_f　　差分の予測値：train_difference_predict_f\n",
    "train_difference_predict_f_=y_train_predict_f+train_difference_predict_f"
   ]
  },
  {
   "cell_type": "code",
   "execution_count": 46,
   "metadata": {},
   "outputs": [],
   "source": [
    "\"\"\"値の置換\n",
    "\"\"\"\n",
    "#train_difference_predict_m_が0.5以上なら1　　train_difference_predict_m_が0.5以下なら0に置き換え\n",
    "train_difference_predict_f_=[1 if o>0.5 else o for o in train_difference_predict_f_]\n",
    "train_difference_predict_f_=[0 if i<0.5 else i for i in train_difference_predict_f_]"
   ]
  },
  {
   "cell_type": "code",
   "execution_count": 47,
   "metadata": {},
   "outputs": [
    {
     "name": "stdout",
     "output_type": "stream",
     "text": [
      "Requirement already satisfied: seaborn in c:\\users\\aika\\appdata\\local\\programs\\python\\python37-32\\lib\\site-packages (0.10.1)\n",
      "Requirement already satisfied: matplotlib>=2.1.2 in c:\\users\\aika\\appdata\\local\\programs\\python\\python37-32\\lib\\site-packages (from seaborn) (3.1.2)\n",
      "Requirement already satisfied: pandas>=0.22.0 in c:\\users\\aika\\appdata\\local\\programs\\python\\python37-32\\lib\\site-packages (from seaborn) (0.25.3)\n",
      "Requirement already satisfied: numpy>=1.13.3 in c:\\users\\aika\\appdata\\local\\programs\\python\\python37-32\\lib\\site-packages (from seaborn) (1.18.0)\n",
      "Requirement already satisfied: scipy>=1.0.1 in c:\\users\\aika\\appdata\\local\\programs\\python\\python37-32\\lib\\site-packages (from seaborn) (1.4.1)\n",
      "Requirement already satisfied: pyparsing!=2.0.4,!=2.1.2,!=2.1.6,>=2.0.1 in c:\\users\\aika\\appdata\\local\\programs\\python\\python37-32\\lib\\site-packages (from matplotlib>=2.1.2->seaborn) (2.4.6)\n",
      "Requirement already satisfied: kiwisolver>=1.0.1 in c:\\users\\aika\\appdata\\local\\programs\\python\\python37-32\\lib\\site-packages (from matplotlib>=2.1.2->seaborn) (1.1.0)\n",
      "Requirement already satisfied: cycler>=0.10 in c:\\users\\aika\\appdata\\local\\programs\\python\\python37-32\\lib\\site-packages (from matplotlib>=2.1.2->seaborn) (0.10.0)\n",
      "Requirement already satisfied: python-dateutil>=2.1 in c:\\users\\aika\\appdata\\local\\programs\\python\\python37-32\\lib\\site-packages (from matplotlib>=2.1.2->seaborn) (2.8.1)\n",
      "Requirement already satisfied: pytz>=2017.2 in c:\\users\\aika\\appdata\\local\\programs\\python\\python37-32\\lib\\site-packages (from pandas>=0.22.0->seaborn) (2019.3)\n",
      "Requirement already satisfied: setuptools in c:\\users\\aika\\appdata\\local\\programs\\python\\python37-32\\lib\\site-packages (from kiwisolver>=1.0.1->matplotlib>=2.1.2->seaborn) (40.8.0)\n",
      "Requirement already satisfied: six in c:\\users\\aika\\appdata\\local\\programs\\python\\python37-32\\lib\\site-packages (from cycler>=0.10->matplotlib>=2.1.2->seaborn) (1.13.0)\n"
     ]
    },
    {
     "name": "stderr",
     "output_type": "stream",
     "text": [
      "WARNING: You are using pip version 20.0.2; however, version 20.1.1 is available.\n",
      "You should consider upgrading via the 'c:\\users\\aika\\appdata\\local\\programs\\python\\python37-32\\python.exe -m pip install --upgrade pip' command.\n"
     ]
    }
   ],
   "source": [
    "\"\"\"ライブラリのインストール\n",
    "\"\"\"\n",
    "!pip install seaborn\n",
    "import matplotlib.pyplot as plt\n",
    "import seaborn as sns"
   ]
  },
  {
   "cell_type": "code",
   "execution_count": 48,
   "metadata": {},
   "outputs": [
    {
     "data": {
      "text/plain": [
       "<matplotlib.axes._subplots.AxesSubplot at 0x138f6c90>"
      ]
     },
     "execution_count": 48,
     "metadata": {},
     "output_type": "execute_result"
    },
    {
     "data": {
      "image/png": "[encoded data removed]",
      "text/plain": [
       "<Figure size 432x288 with 2 Axes>"
      ]
     },
     "metadata": {
      "needs_background": "light"
     },
     "output_type": "display_data"
    }
   ],
   "source": [
    "\"\"\"混同行列の表示\n",
    "\"\"\"\n",
    "from sklearn.metrics import confusion_matrix\n",
    "\n",
    "#混同行列(Confusion Matrix)\n",
    "cm=confusion_matrix(y_train_f, train_difference_predict_f_)\n",
    "\n",
    "#fmt=\"d\":整数で表示\n",
    "sns.heatmap(cm, annot=True, cmap='Blues',fmt=\"d\")"
   ]
  },
  {
   "cell_type": "code",
   "execution_count": 49,
   "metadata": {},
   "outputs": [
    {
     "name": "stdout",
     "output_type": "stream",
     "text": [
      "精度: 0.858\n"
     ]
    }
   ],
   "source": [
    "\"\"\"精度の評価\n",
    "\"\"\"\n",
    "from sklearn.metrics import accuracy_score, precision_score, recall_score, f1_score\n",
    "print(\"精度:\",round(accuracy_score(y_train_f, train_difference_predict_f_),3))"
   ]
  },
  {
   "cell_type": "code",
   "execution_count": 50,
   "metadata": {},
   "outputs": [],
   "source": [
    "\"\"\"予測値の算出(テストデータ)\n",
    "\"\"\"\n",
    "\n",
    "#予測値：y_test_predict_f　　説明変数：X_test_array_f\n",
    "y_test_predict_f=clf.predict(X_test_array_f)"
   ]
  },
  {
   "cell_type": "code",
   "execution_count": 51,
   "metadata": {},
   "outputs": [],
   "source": [
    "\"\"\"さらに精度を上げる為に実測値から予測値を引いた値を予測する\n",
    "\"\"\"\n",
    "\n",
    "#差分：test_difference_f　　実測値：y_test_f　　予測値：y_test_predict_f\n",
    "test_difference_f=y_test_f-y_test_predict_f"
   ]
  },
  {
   "cell_type": "code",
   "execution_count": 52,
   "metadata": {},
   "outputs": [],
   "source": [
    "\"\"\"差分の予測値の算出\n",
    "\"\"\"\n",
    "\n",
    "#差分の予測値：test_difference_predict_f　　説明変数：X_test_array_f\n",
    "test_difference_predict_f=clf_.predict(X_test_array_f)"
   ]
  },
  {
   "cell_type": "code",
   "execution_count": 53,
   "metadata": {},
   "outputs": [],
   "source": [
    "\"\"\"実測値に近い値=予測値+差分の予測値\n",
    "\"\"\"\n",
    "\n",
    "#実測値に近い値：test_difference_predict_f_　　予測値：y_test_predict_f　　差分の予測値：test_difference_predict_f\n",
    "test_difference_predict_f_=y_test_predict_f+test_difference_predict_f"
   ]
  },
  {
   "cell_type": "code",
   "execution_count": 54,
   "metadata": {},
   "outputs": [],
   "source": [
    "\"\"\"値の置換\n",
    "\"\"\"\n",
    "#test_difference_predict_m_が0.5以上なら1　　test_difference_predict_m_が0.5以下なら0に置き換え\n",
    "test_difference_predict_f_=[1 if o>0.5 else o for o in test_difference_predict_f_]\n",
    "test_difference_predict_f_=[0 if i<0.5 else i for i in test_difference_predict_f_]"
   ]
  },
  {
   "cell_type": "code",
   "execution_count": 55,
   "metadata": {},
   "outputs": [
    {
     "data": {
      "text/plain": [
       "<matplotlib.axes._subplots.AxesSubplot at 0x13d948d0>"
      ]
     },
     "execution_count": 55,
     "metadata": {},
     "output_type": "execute_result"
    },
    {
     "data": {
      "image/png": "[encoded data removed]",
      "text/plain": [
       "<Figure size 432x288 with 2 Axes>"
      ]
     },
     "metadata": {
      "needs_background": "light"
     },
     "output_type": "display_data"
    }
   ],
   "source": [
    "\"\"\"混同行列の表示\n",
    "\"\"\"\n",
    "from sklearn.metrics import confusion_matrix\n",
    "\n",
    "#混同行列(Confusion Matrix)\n",
    "cm=confusion_matrix(y_test_f, test_difference_predict_f_)\n",
    "\n",
    "#fmt=\"d\":整数で表示\n",
    "sns.heatmap(cm, annot=True, cmap='Blues',fmt=\"d\")"
   ]
  },
  {
   "cell_type": "code",
   "execution_count": 56,
   "metadata": {},
   "outputs": [
    {
     "name": "stdout",
     "output_type": "stream",
     "text": [
      "精度: 0.758\n"
     ]
    }
   ],
   "source": [
    "\"\"\"精度の評価\n",
    "\"\"\"\n",
    "from sklearn.metrics import accuracy_score, precision_score, recall_score, f1_score\n",
    "print(\"精度:\",round(accuracy_score(y_test_f, test_difference_predict_f_),3))"
   ]
  },
  {
   "cell_type": "code",
   "execution_count": 57,
   "metadata": {},
   "outputs": [
    {
     "name": "stdout",
     "output_type": "stream",
     "text": [
      "0.8178438661710037\n"
     ]
    }
   ],
   "source": [
    "\"\"\"全体の精度\n",
    "\"\"\"\n",
    "#男の正解した数+女の正解した数/全体の人数\n",
    "test_positive_m=int(sum(test_difference_predict_m_==y_test_m))\n",
    "test_positive_f=int(sum(test_difference_predict_f_==y_test_f))\n",
    "y_all_positive=test_positive_m+test_positive_f\n",
    "y_test=len(y_test_m)+len(y_test_f)\n",
    "print(y_all_positive/y_test)"
   ]
  }
 ],
 "metadata": {
  "kernelspec": {
   "display_name": "Python 3",
   "language": "python",
   "name": "python3"
  },
  "language_info": {
   "codemirror_mode": {
    "name": "ipython",
    "version": 3
   },
   "file_extension": ".py",
   "mimetype": "text/x-python",
   "name": "python",
   "nbconvert_exporter": "python",
   "pygments_lexer": "ipython3",
   "version": "3.7.4"
  }
 },
 "nbformat": 4,
 "nbformat_minor": 2
}
