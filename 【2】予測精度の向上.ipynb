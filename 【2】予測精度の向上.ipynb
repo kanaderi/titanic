{
 "cells": [
  {
   "cell_type": "markdown",
   "metadata": {},
   "source": [
    "# ①ライブラリのインポート"
   ]
  },
  {
   "cell_type": "code",
   "execution_count": 1,
   "metadata": {},
   "outputs": [],
   "source": [
    "# データハンドリング\n",
    "import numpy as np\n",
    "import pandas as pd\n",
    "# 正規化\n",
    "from sklearn.preprocessing import MinMaxScaler\n",
    "# データ分割\n",
    "from sklearn.model_selection import train_test_split\n",
    "# ニューラルネット\n",
    "from sklearn.neural_network import MLPClassifier\n",
    "from sklearn.neural_network import MLPRegressor\n",
    "# 混同行列可視化用\n",
    "import matplotlib.pyplot as plt\n",
    "import seaborn as sns\n",
    "from sklearn.metrics import confusion_matrix\n",
    "# 正解率の算出\n",
    "from sklearn.metrics import accuracy_score"
   ]
  },
  {
   "cell_type": "markdown",
   "metadata": {},
   "source": [
    "# ②データの読み込みと分割\n",
    "\n",
    "前章で加工済みデータをCSVにしていたので、それを読み込み、ニューラルネットの入力データに加工する"
   ]
  },
  {
   "cell_type": "code",
   "execution_count": 2,
   "metadata": {},
   "outputs": [],
   "source": [
    "# 読み込み\n",
    "data=pd.read_csv('data_complete.csv')\n",
    "\n",
    "#説明変数と目的変数に分割\n",
    "X=data[\n",
    "    [\n",
    "        'Pclass', 'Age', 'SibSp', 'Parch', \n",
    "        'Fare', 'Sex_female','Sex_male', \n",
    "        'Embarked_C', 'Embarked_Q', 'Embarked_S'\n",
    "    ]\n",
    "]\n",
    "y=data['Survived']\n",
    "\n",
    "# 訓練データとテストデータに分割\n",
    "X_train,X_test,y_train,y_test=train_test_split(X,y,test_size=0.2,random_state=1234)\n",
    "\n",
    "# 正規化\n",
    "scaler_x = MinMaxScaler()\n",
    "X_train = scaler_x.fit_transform(X_train)\n",
    "X_test = scaler_x.transform(X_test) "
   ]
  },
  {
   "cell_type": "markdown",
   "metadata": {},
   "source": [
    "# ③ニューラルネット（回帰）\n",
    "\n",
    "回帰を試す理由としては、某企業の内部調査で、確率推論などの特定のタスクでは、\n",
    "分類系のアルゴリズムより、回帰系アルゴリズムのほうが良い結果を示している。\n",
    "また、今回の問題でも、「生きるか死ぬか」という分類問題であるが、\n",
    "生きる確率0%/100%の回帰問題とも考えることができるため、回帰を試してみる。"
   ]
  },
  {
   "cell_type": "code",
   "execution_count": 3,
   "metadata": {},
   "outputs": [],
   "source": [
    "\"\"\"基本モデルの作成：\n",
    "\"\"\"\n",
    "clf=MLPRegressor(\n",
    "    random_state=1234\n",
    ")"
   ]
  },
  {
   "cell_type": "code",
   "execution_count": 4,
   "metadata": {},
   "outputs": [
    {
     "data": {
      "text/plain": [
       "MLPRegressor(activation='relu', alpha=0.0001, batch_size='auto', beta_1=0.9,\n",
       "             beta_2=0.999, early_stopping=False, epsilon=1e-08,\n",
       "             hidden_layer_sizes=(100,), learning_rate='constant',\n",
       "             learning_rate_init=0.001, max_fun=15000, max_iter=200,\n",
       "             momentum=0.9, n_iter_no_change=10, nesterovs_momentum=True,\n",
       "             power_t=0.5, random_state=1234, shuffle=True, solver='adam',\n",
       "             tol=0.0001, validation_fraction=0.1, verbose=False,\n",
       "             warm_start=False)"
      ]
     },
     "execution_count": 4,
     "metadata": {},
     "output_type": "execute_result"
    }
   ],
   "source": [
    "\"\"\"モデルの最適化\n",
    "\"\"\"\n",
    "clf.fit(X_train,y_train)"
   ]
  },
  {
   "cell_type": "code",
   "execution_count": 5,
   "metadata": {},
   "outputs": [
    {
     "name": "stdout",
     "output_type": "stream",
     "text": [
      "正解率: 0.816\n"
     ]
    }
   ],
   "source": [
    "\"\"\"正解率の算出\n",
    "\"\"\"\n",
    "y_train_predict=clf.predict(X_train)\n",
    "\n",
    "y_train_predict_01=[1 if i>0.5 else 0 for i in y_train_predict]\n",
    "\n",
    "print(\"正解率:\",round(accuracy_score(y_train,y_train_predict_01),3))"
   ]
  },
  {
   "cell_type": "markdown",
   "metadata": {},
   "source": [
    "# ④差分の予測\n",
    "\n",
    "③で求めた精度は、旋回の分類の精度に比べ、低くなりましたが、回帰系のアルゴリズムで、精度向上の一つとして、用いられる「差分の予測」を試してみる。\n",
    "\n",
    "→これは、あまり一般的ではないが、「最終的な」精度向上段階で用いられる手法である。\n",
    "\n",
    "→前段階のニューラルネットで吸収できなかった特徴を、後段階のニューラルネットで吸収しようという発想の試みである。"
   ]
  },
  {
   "cell_type": "code",
   "execution_count": 6,
   "metadata": {},
   "outputs": [],
   "source": [
    "\"\"\"差分推論用のモデル\n",
    "\"\"\"\n",
    "clf_diff=MLPRegressor(\n",
    "    random_state=1234\n",
    ")"
   ]
  },
  {
   "cell_type": "code",
   "execution_count": 7,
   "metadata": {},
   "outputs": [],
   "source": [
    "\"\"\"目的変数となる予測値との差分を求める\n",
    "\"\"\"\n",
    "train_diff=y_train-y_train_predict"
   ]
  },
  {
   "cell_type": "code",
   "execution_count": 8,
   "metadata": {},
   "outputs": [
    {
     "data": {
      "text/plain": [
       "MLPRegressor(activation='relu', alpha=0.0001, batch_size='auto', beta_1=0.9,\n",
       "             beta_2=0.999, early_stopping=False, epsilon=1e-08,\n",
       "             hidden_layer_sizes=(100,), learning_rate='constant',\n",
       "             learning_rate_init=0.001, max_fun=15000, max_iter=200,\n",
       "             momentum=0.9, n_iter_no_change=10, nesterovs_momentum=True,\n",
       "             power_t=0.5, random_state=1234, shuffle=True, solver='adam',\n",
       "             tol=0.0001, validation_fraction=0.1, verbose=False,\n",
       "             warm_start=False)"
      ]
     },
     "execution_count": 8,
     "metadata": {},
     "output_type": "execute_result"
    }
   ],
   "source": [
    "\"\"\"最適化\n",
    "\"\"\"\n",
    "clf_diff.fit(X_train,train_diff)"
   ]
  },
  {
   "cell_type": "code",
   "execution_count": 9,
   "metadata": {},
   "outputs": [],
   "source": [
    "\"\"\"差分の予測値の算出\n",
    "\"\"\"\n",
    "train_diff_predict=clf_diff.predict(X_train)"
   ]
  },
  {
   "cell_type": "code",
   "execution_count": 10,
   "metadata": {},
   "outputs": [],
   "source": [
    "\"\"\"最終的な予測値=予測値+差分の予測値\n",
    "\"\"\"\n",
    "train_predict_union=y_train_predict+train_diff_predict"
   ]
  },
  {
   "cell_type": "code",
   "execution_count": 11,
   "metadata": {},
   "outputs": [
    {
     "name": "stdout",
     "output_type": "stream",
     "text": [
      "正解率: 0.809\n"
     ]
    }
   ],
   "source": [
    "\"\"\"正解率の算出\n",
    "\"\"\"\n",
    "train_predict_union_01=[1 if i>0.5 else 0 for i in train_predict_union]\n",
    "\n",
    "print(\"正解率:\",round(accuracy_score(y_train,train_predict_union_01),3))"
   ]
  },
  {
   "cell_type": "markdown",
   "metadata": {},
   "source": [
    "#### 差分の予測は、今回の問題ではあまり意味をなしていないことがわかる。\n",
    "\n",
    "#### しかし、これは、この手法が無意味ということではなく、「今回の問題」では、成果を上げられなかったというだけなので、このような手法もあるのだなということは頭に残しておいてください。\n",
    "\n",
    "\n",
    "もう少し学習を進めると、違う構造のニューラルネットをいくつも組み合わせて精度を上げるということは、往々にして出会うと思いますが、通常のデータ分析業務で使用することはまれなので、慣れないうちは、あまりトリッキーなことをしないほうがいいかもしれません。"
   ]
  }
 ],
 "metadata": {
  "kernelspec": {
   "display_name": "Python 3",
   "language": "python",
   "name": "python3"
  },
  "language_info": {
   "codemirror_mode": {
    "name": "ipython",
    "version": 3
   },
   "file_extension": ".py",
   "mimetype": "text/x-python",
   "name": "python",
   "nbconvert_exporter": "python",
   "pygments_lexer": "ipython3",
   "version": "3.7.4"
  }
 },
 "nbformat": 4,
 "nbformat_minor": 2
}
