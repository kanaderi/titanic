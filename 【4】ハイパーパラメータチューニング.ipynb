{
 "cells": [
  {
   "cell_type": "markdown",
   "metadata": {},
   "source": [
    "# ①ライブラリのインポート"
   ]
  },
  {
   "cell_type": "code",
   "execution_count": 1,
   "metadata": {},
   "outputs": [],
   "source": [
    "# データハンドリング\n",
    "import numpy as np\n",
    "import pandas as pd\n",
    "# 正規化\n",
    "from sklearn.preprocessing import MinMaxScaler\n",
    "# データ分割\n",
    "from sklearn.model_selection import train_test_split\n",
    "# ニューラルネット\n",
    "from sklearn.neural_network import MLPClassifier\n",
    "from sklearn.neural_network import MLPRegressor\n",
    "# 混同行列可視化用\n",
    "import matplotlib.pyplot as plt\n",
    "import seaborn as sns\n",
    "from sklearn.metrics import confusion_matrix\n",
    "# 正解率の算出\n",
    "from sklearn.metrics import accuracy_score\n",
    "# 決定木可視化用\n",
    "from sklearn.tree import export_graphviz\n",
    "import pydotplus\n",
    "from IPython.display import Image\n",
    "# グリッドサーチ用\n",
    "from sklearn import model_selection"
   ]
  },
  {
   "cell_type": "markdown",
   "metadata": {},
   "source": [
    "# ②データの読み込みと分割"
   ]
  },
  {
   "cell_type": "code",
   "execution_count": 2,
   "metadata": {},
   "outputs": [],
   "source": [
    "# 読み込み\n",
    "data=pd.read_csv('data_complete.csv')\n",
    "\n",
    "#説明変数と目的変数に分割\n",
    "X=data[\n",
    "    [\n",
    "        'Pclass', 'Age', 'SibSp', 'Parch', \n",
    "        'Fare', 'Sex_female','Sex_male', \n",
    "        'Embarked_C', 'Embarked_Q', 'Embarked_S'\n",
    "    ]\n",
    "]\n",
    "y=data['Survived']\n",
    "\n",
    "# 訓練データとテストデータに分割\n",
    "X_train,X_test,y_train,y_test=train_test_split(X,y,test_size=0.2,random_state=1234)\n",
    "\n",
    "# 正規化\n",
    "scaler_x = MinMaxScaler()\n",
    "X_train = scaler_x.fit_transform(X_train)\n",
    "X_test = scaler_x.transform(X_test) "
   ]
  },
  {
   "cell_type": "markdown",
   "metadata": {},
   "source": [
    "# ③パラメータ調整前"
   ]
  },
  {
   "cell_type": "code",
   "execution_count": 3,
   "metadata": {},
   "outputs": [
    {
     "name": "stdout",
     "output_type": "stream",
     "text": [
      "正解率: 0.826\n",
      "正解率: 0.844\n"
     ]
    },
    {
     "name": "stderr",
     "output_type": "stream",
     "text": [
      "c:\\users\\aika\\appdata\\local\\programs\\python\\python37-32\\lib\\site-packages\\sklearn\\neural_network\\_multilayer_perceptron.py:571: ConvergenceWarning: Stochastic Optimizer: Maximum iterations (200) reached and the optimization hasn't converged yet.\n",
      "  % self.max_iter, ConvergenceWarning)\n"
     ]
    }
   ],
   "source": [
    "# モデル生成\n",
    "clf=MLPClassifier(\n",
    "    random_state=1234\n",
    ")\n",
    "# 最適化\n",
    "clf.fit(X_train,y_train)\n",
    "# 予測（訓練）\n",
    "y_train_predict=clf.predict(X_train)\n",
    "# 正答率(訓練)\n",
    "print(\"正解率:\",round(accuracy_score(y_train, y_train_predict),3))\n",
    "# 予測（テスト）\n",
    "y_test_predict=clf.predict(X_test)\n",
    "# 正答率(テスト)\n",
    "print(\"正解率:\",round(accuracy_score(y_test, y_test_predict),3))"
   ]
  },
  {
   "cell_type": "markdown",
   "metadata": {},
   "source": [
    "# ④ハイパーパラメータ調整Ⅰ\n",
    "\n",
    "### 調整の際のポイント\n",
    "\n",
    "「学習率」は0.005~0.01で固定\n",
    "\n",
    "「学習回数」は、学習曲線の変化がなくなる回数を見て固定（今回は300回くらいでひと先ず固定）\n",
    "\n",
    "次に「層の数」→「ユニット数」→細かいパラメータの順で決めていく\n",
    "\n",
    "＊これは、ニューラルネットの知識が浅い方がパラメータチューニングを行う際のTIPSとしてご理解ください。\n",
    "\n",
    "＊本当なら、活性化関数やバイアス荒野重みの初期値などを問題ごとに適切なものを選定します。"
   ]
  },
  {
   "cell_type": "code",
   "execution_count": 4,
   "metadata": {},
   "outputs": [],
   "source": [
    "\"\"\"基本モデルの作成：分類\n",
    "\"\"\"\n",
    "clf=MLPClassifier(\n",
    "    random_state=1234\n",
    ")"
   ]
  },
  {
   "cell_type": "code",
   "execution_count": 5,
   "metadata": {},
   "outputs": [
    {
     "data": {
      "text/plain": [
       "GridSearchCV(cv=None, error_score=nan,\n",
       "             estimator=MLPClassifier(activation='relu', alpha=0.0001,\n",
       "                                     batch_size='auto', beta_1=0.9,\n",
       "                                     beta_2=0.999, early_stopping=False,\n",
       "                                     epsilon=1e-08, hidden_layer_sizes=(100,),\n",
       "                                     learning_rate='constant',\n",
       "                                     learning_rate_init=0.001, max_fun=15000,\n",
       "                                     max_iter=200, momentum=0.9,\n",
       "                                     n_iter_no_change=10,\n",
       "                                     nesterovs_momentum=True, power_t=0.5,\n",
       "                                     random_state=1234, shuffle=True,\n",
       "                                     solver='adam', tol=0.0001,\n",
       "                                     validation_fraction=0.1, verbose=False,\n",
       "                                     warm_start=False),\n",
       "             iid='deprecated', n_jobs=None,\n",
       "             param_grid={'hidden_layer_sizes': [(64, 64), (64, 64, 64),\n",
       "                                                (64, 64, 64, 64),\n",
       "                                                (64, 64, 64, 64, 64)],\n",
       "                         'learning_rate_init': [0.005], 'max_iter': [300]},\n",
       "             pre_dispatch='2*n_jobs', refit=True, return_train_score=False,\n",
       "             scoring=None, verbose=0)"
      ]
     },
     "execution_count": 5,
     "metadata": {},
     "output_type": "execute_result"
    }
   ],
   "source": [
    "\"\"\"探索開始\n",
    "最適な層の数を探索\n",
    "\"\"\"\n",
    "clf_cv=model_selection.GridSearchCV(\n",
    "    clf,\n",
    "    {\n",
    "        \"learning_rate_init\":[0.005], #学習率\n",
    "        \"max_iter\":[300], #学習回数\n",
    "        \"hidden_layer_sizes\":[(64,64),(64,64,64),(64,64,64,64),(64,64,64,64,64)] # 中間層\n",
    "    },\n",
    ")\n",
    "clf_cv.fit(X_train,y_train)"
   ]
  },
  {
   "cell_type": "code",
   "execution_count": 6,
   "metadata": {},
   "outputs": [
    {
     "data": {
      "text/plain": [
       "{'hidden_layer_sizes': (64, 64, 64, 64, 64),\n",
       " 'learning_rate_init': 0.005,\n",
       " 'max_iter': 300}"
      ]
     },
     "execution_count": 6,
     "metadata": {},
     "output_type": "execute_result"
    }
   ],
   "source": [
    "\"\"\"最適なパラメータの値\n",
    "「層の数は4層くらいがいいらしい」ことがわかった\n",
    "\"\"\"\n",
    "clf_cv.best_params_"
   ]
  },
  {
   "cell_type": "code",
   "execution_count": 7,
   "metadata": {},
   "outputs": [
    {
     "name": "stdout",
     "output_type": "stream",
     "text": [
      "正解率: 0.847\n"
     ]
    }
   ],
   "source": [
    "\"\"\"最適なパラメータで再学習＆正解率算出\n",
    "\"\"\"\n",
    "# モデル生成\n",
    "clf=MLPClassifier(**clf_cv.best_params_,random_state=1234)\n",
    "# 最適化\n",
    "clf.fit(X_train,y_train)\n",
    "# 予測\n",
    "y_train_predict=clf.predict(X_train)\n",
    "# 精度の評価\n",
    "print(\"正解率:\",round(accuracy_score(y_train, y_train_predict),3))"
   ]
  },
  {
   "cell_type": "code",
   "execution_count": 8,
   "metadata": {},
   "outputs": [
    {
     "name": "stdout",
     "output_type": "stream",
     "text": [
      "正解率: 0.832\n"
     ]
    }
   ],
   "source": [
    "\"\"\"テストデータへの適用\n",
    "\"\"\"\n",
    "y_test_predict=clf.predict(X_test)\n",
    "print(\"正解率:\",round(accuracy_score(y_test, y_test_predict),3))"
   ]
  },
  {
   "cell_type": "markdown",
   "metadata": {},
   "source": [
    "# ⑤ハイパーパラメータ調整Ⅱ"
   ]
  },
  {
   "cell_type": "code",
   "execution_count": 9,
   "metadata": {},
   "outputs": [],
   "source": [
    "\"\"\"基本モデルの作成：分類\n",
    "\"\"\"\n",
    "clf=MLPClassifier(\n",
    "    random_state=1234\n",
    ")"
   ]
  },
  {
   "cell_type": "code",
   "execution_count": 10,
   "metadata": {},
   "outputs": [
    {
     "data": {
      "text/plain": [
       "GridSearchCV(cv=None, error_score=nan,\n",
       "             estimator=MLPClassifier(activation='relu', alpha=0.0001,\n",
       "                                     batch_size='auto', beta_1=0.9,\n",
       "                                     beta_2=0.999, early_stopping=False,\n",
       "                                     epsilon=1e-08, hidden_layer_sizes=(100,),\n",
       "                                     learning_rate='constant',\n",
       "                                     learning_rate_init=0.001, max_fun=15000,\n",
       "                                     max_iter=200, momentum=0.9,\n",
       "                                     n_iter_no_change=10,\n",
       "                                     nesterovs_momentum=True, power_t=0.5,\n",
       "                                     random_st...\n",
       "                                     solver='adam', tol=0.0001,\n",
       "                                     validation_fraction=0.1, verbose=False,\n",
       "                                     warm_start=False),\n",
       "             iid='deprecated', n_jobs=None,\n",
       "             param_grid={'hidden_layer_sizes': [(16, 16, 16, 16),\n",
       "                                                (32, 32, 32, 32),\n",
       "                                                (64, 64, 64, 64),\n",
       "                                                (128, 128, 128, 128),\n",
       "                                                (256, 256, 256, 256)],\n",
       "                         'learning_rate_init': [0.005], 'max_iter': [300]},\n",
       "             pre_dispatch='2*n_jobs', refit=True, return_train_score=False,\n",
       "             scoring=None, verbose=0)"
      ]
     },
     "execution_count": 10,
     "metadata": {},
     "output_type": "execute_result"
    }
   ],
   "source": [
    "\"\"\"探索開始\n",
    "「層の数は4層くらいがいいらしい」ことがわかっているので、\n",
    "つぎは、ユニット数を調べてみる。\n",
    "\"\"\"\n",
    "clf_cv=model_selection.GridSearchCV(\n",
    "    clf,\n",
    "    {\n",
    "        \"learning_rate_init\":[0.005], #学習率\n",
    "        \"max_iter\":[300], #学習回数\n",
    "        \"hidden_layer_sizes\":[(16,16,16,16),(32,32,32,32),(64,64,64,64),(128,128,128,128),(256,256,256,256)] # 中間層\n",
    "    },\n",
    ")\n",
    "clf_cv.fit(X_train,y_train)"
   ]
  },
  {
   "cell_type": "code",
   "execution_count": 11,
   "metadata": {},
   "outputs": [
    {
     "data": {
      "text/plain": [
       "{'hidden_layer_sizes': (16, 16, 16, 16),\n",
       " 'learning_rate_init': 0.005,\n",
       " 'max_iter': 300}"
      ]
     },
     "execution_count": 11,
     "metadata": {},
     "output_type": "execute_result"
    }
   ],
   "source": [
    "\"\"\"最適なパラメータの値\n",
    "今回のような説明変数の少ないデータでは、「ユニット数は16近辺がいいらしい」ことがわかった\n",
    "\"\"\"\n",
    "clf_cv.best_params_"
   ]
  },
  {
   "cell_type": "code",
   "execution_count": 12,
   "metadata": {},
   "outputs": [
    {
     "name": "stderr",
     "output_type": "stream",
     "text": [
      "c:\\users\\aika\\appdata\\local\\programs\\python\\python37-32\\lib\\site-packages\\sklearn\\neural_network\\_multilayer_perceptron.py:571: ConvergenceWarning: Stochastic Optimizer: Maximum iterations (300) reached and the optimization hasn't converged yet.\n",
      "  % self.max_iter, ConvergenceWarning)\n"
     ]
    },
    {
     "data": {
      "text/plain": [
       "GridSearchCV(cv=None, error_score=nan,\n",
       "             estimator=MLPClassifier(activation='relu', alpha=0.0001,\n",
       "                                     batch_size='auto', beta_1=0.9,\n",
       "                                     beta_2=0.999, early_stopping=False,\n",
       "                                     epsilon=1e-08, hidden_layer_sizes=(100,),\n",
       "                                     learning_rate='constant',\n",
       "                                     learning_rate_init=0.001, max_fun=15000,\n",
       "                                     max_iter=200, momentum=0.9,\n",
       "                                     n_iter_no_change=10,\n",
       "                                     nesterovs_momentum=True, power_t=0.5,\n",
       "                                     random_state=1234, shuffle=True,\n",
       "                                     solver='adam', tol=0.0001,\n",
       "                                     validation_fraction=0.1, verbose=False,\n",
       "                                     warm_start=False),\n",
       "             iid='deprecated', n_jobs=None,\n",
       "             param_grid={'hidden_layer_sizes': [(16, 16, 16, 16),\n",
       "                                                (8, 16, 16, 8), (8, 12, 16, 24),\n",
       "                                                (24, 16, 12, 8)],\n",
       "                         'learning_rate_init': [0.005], 'max_iter': [300]},\n",
       "             pre_dispatch='2*n_jobs', refit=True, return_train_score=False,\n",
       "             scoring=None, verbose=0)"
      ]
     },
     "execution_count": 12,
     "metadata": {},
     "output_type": "execute_result"
    }
   ],
   "source": [
    "\"\"\"探索開始\n",
    "「各層のユニット数は16近辺がいいらしい」ということはわかったが、\n",
    "入力層→出力層にいくユニット数の増減具合はどれがいいんでしょうか\n",
    "\n",
    "・単調\n",
    "・山なり\n",
    "・増加\n",
    "・減少\n",
    "\"\"\"\n",
    "clf_cv=model_selection.GridSearchCV(\n",
    "    clf,\n",
    "    {\n",
    "        \"learning_rate_init\":[0.005], #学習率\n",
    "        \"max_iter\":[300], #学習回数\n",
    "        \"hidden_layer_sizes\":[(16,16,16,16),(8,16,16,8),(8,12,16,24),(24,16,12,8)] # 中間層\n",
    "    },\n",
    ")\n",
    "clf_cv.fit(X_train,y_train)"
   ]
  },
  {
   "cell_type": "code",
   "execution_count": 13,
   "metadata": {},
   "outputs": [
    {
     "data": {
      "text/plain": [
       "{'hidden_layer_sizes': (16, 16, 16, 16),\n",
       " 'learning_rate_init': 0.005,\n",
       " 'max_iter': 300}"
      ]
     },
     "execution_count": 13,
     "metadata": {},
     "output_type": "execute_result"
    }
   ],
   "source": [
    "\"\"\"最適なパラメータの値\n",
    "「ユニット数の増減具合は、単調がいい」ことがわかった\n",
    "\"\"\"\n",
    "clf_cv.best_params_"
   ]
  },
  {
   "cell_type": "markdown",
   "metadata": {},
   "source": [
    "### 以上より下記のことがわかったので、再学習してみる\n",
    "\n",
    "・「層の数は4層くらいがいいらしい」\n",
    "\n",
    "・「各層のユニット数は16近辺がいいらしい」\n",
    "\n",
    "・「ユニット数の増減具合は、単調がいい」"
   ]
  },
  {
   "cell_type": "code",
   "execution_count": 14,
   "metadata": {},
   "outputs": [
    {
     "name": "stdout",
     "output_type": "stream",
     "text": [
      "正解率: 0.846\n"
     ]
    }
   ],
   "source": [
    "\"\"\"最適なパラメータで再学習＆正解率算出\n",
    "\"\"\"\n",
    "# モデル生成\n",
    "clf=MLPClassifier(**clf_cv.best_params_,random_state=1234)\n",
    "# 最適化\n",
    "clf.fit(X_train,y_train)\n",
    "# 予測\n",
    "y_train_predict=clf.predict(X_train)\n",
    "# 精度の評価\n",
    "print(\"正解率:\",round(accuracy_score(y_train, y_train_predict),3))"
   ]
  },
  {
   "cell_type": "code",
   "execution_count": 15,
   "metadata": {},
   "outputs": [
    {
     "name": "stdout",
     "output_type": "stream",
     "text": [
      "正解率: 0.838\n"
     ]
    }
   ],
   "source": [
    "\"\"\"テストデータへの適用\n",
    "\"\"\"\n",
    "y_test_predict=clf.predict(X_test)\n",
    "print(\"正解率:\",round(accuracy_score(y_test, y_test_predict),3))"
   ]
  },
  {
   "cell_type": "markdown",
   "metadata": {},
   "source": [
    "# 結論\n",
    "\n",
    "③パラメータ調整前\n",
    "正解率（訓練データ）: 0.826\n",
    "正解率（テストデータ）: 0.844\n",
    "\n",
    "④ハイパーパラメータ調整Ⅰ\n",
    "正解率（訓練データ）: 0.847\n",
    "正解率（テストデータ）: 0.832\n",
    "\n",
    "⑤ハイパーパラメータ調整Ⅱ\n",
    "正解率（訓練データ）: 0.846\n",
    "正解率（テストデータ）: 0.838\n",
    "\n",
    "テストデータの正答率が、「パラメータ調整前」が最良値なのは、ご愛敬として。\n",
    "\n",
    "パラメータチューニングを丁寧に行うと、段階が進むごとに「モデルがよくなってきている感」がわかると思います。\n",
    "\n",
    "＊本来は、訓練データの方が精度がよくなるはずです（③のようなことは起こらない→学習不足と考えられる）\n",
    "＊このような少ないデータを扱う際は、こういうイレギュラーなことも起こります。\n",
    "\n",
    "### ⑤のモデルで完成形になります！！\n",
    "\n",
    "### お疲れさまでした。"
   ]
  }
 ],
 "metadata": {
  "kernelspec": {
   "display_name": "Python 3",
   "language": "python",
   "name": "python3"
  },
  "language_info": {
   "codemirror_mode": {
    "name": "ipython",
    "version": 3
   },
   "file_extension": ".py",
   "mimetype": "text/x-python",
   "name": "python",
   "nbconvert_exporter": "python",
   "pygments_lexer": "ipython3",
   "version": "3.7.4"
  }
 },
 "nbformat": 4,
 "nbformat_minor": 2
}
